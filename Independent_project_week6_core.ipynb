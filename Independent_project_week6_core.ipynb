{
  "nbformat": 4,
  "nbformat_minor": 0,
  "metadata": {
    "colab": {
      "name": "Independent project week6 core.ipynb",
      "version": "0.3.2",
      "provenance": [],
      "collapsed_sections": [],
      "include_colab_link": true
    },
    "kernelspec": {
      "name": "python3",
      "display_name": "Python 3"
    },
    "accelerator": "GPU"
  },
  "cells": [
    {
      "cell_type": "markdown",
      "metadata": {
        "id": "view-in-github",
        "colab_type": "text"
      },
      "source": [
        "<a href=\"https://colab.research.google.com/github/cecilia-wanja/Football-prediction-scores/blob/master/Independent_project_week6_core.ipynb\" target=\"_parent\"><img src=\"https://colab.research.google.com/assets/colab-badge.svg\" alt=\"Open In Colab\"/></a>"
      ]
    },
    {
      "cell_type": "markdown",
      "metadata": {
        "id": "Ib60oeLt0qRp",
        "colab_type": "text"
      },
      "source": [
        "# QUESTION\n",
        "Being a football analyst in a company - Mchezopesa Ltd you are tasked to accomplish the task below:\n",
        "\n",
        "A Prediction result of a game between team 1 and team 2, based on who's home and who's away, and on whether or not the game is friendly (include rank in your training)."
      ]
    },
    {
      "cell_type": "code",
      "metadata": {
        "id": "O-2I1CIe0kp0",
        "colab_type": "code",
        "colab": {}
      },
      "source": [
        "import pandas as pd\n",
        "#allows us to organize data in tabular form\n",
        "import numpy as np\n",
        "#numpy allows us to work with multi dimensional arrays\n",
        "import scipy\n",
        "#scipy-a python ecosystem used for mathematics, machine learning \n",
        "import matplotlib.pyplot as plt\n",
        "#matplotlib-a 2D library for plotting numpy computations\n",
        "import seaborn as sns\n",
        "#seaborn-a python visualization based on matplotlib, helps in drawing attractive statistical graphics\n",
        "import sklearn\n",
        "#sklearn-used for machine learning, \n",
        "%matplotlib inline\n",
        "#for visualization \n",
        "import statsmodels.api as sm\n",
        "#statsmodel-used to run regression"
      ],
      "execution_count": 0,
      "outputs": []
    },
    {
      "cell_type": "markdown",
      "metadata": {
        "id": "SQxWcLF81SZH",
        "colab_type": "text"
      },
      "source": [
        "### METRICS OF SUCCESS\n",
        "1. Getting the model with the highest accuracy level.\n",
        "2. "
      ]
    },
    {
      "cell_type": "markdown",
      "metadata": {
        "id": "5AGH_-td4-TZ",
        "colab_type": "text"
      },
      "source": [
        "# CONTEXT\n"
      ]
    },
    {
      "cell_type": "code",
      "metadata": {
        "id": "ug6BDhKi1Rio",
        "colab_type": "code",
        "colab": {}
      },
      "source": [
        "#loading my dataset into a pandas dataframe\n",
        "football = pd.read_csv(\"results.csv\")"
      ],
      "execution_count": 0,
      "outputs": []
    },
    {
      "cell_type": "code",
      "metadata": {
        "id": "X0H4kr1K0nFw",
        "colab_type": "code",
        "outputId": "8a39a038-8b38-49db-baa9-237e6d3680b8",
        "colab": {
          "base_uri": "https://localhost:8080/",
          "height": 309
        }
      },
      "source": [
        "#Previewing our first few rows in our football results dataset\n",
        "football.head()"
      ],
      "execution_count": 3,
      "outputs": [
        {
          "output_type": "execute_result",
          "data": {
            "text/html": [
              "<div>\n",
              "<style scoped>\n",
              "    .dataframe tbody tr th:only-of-type {\n",
              "        vertical-align: middle;\n",
              "    }\n",
              "\n",
              "    .dataframe tbody tr th {\n",
              "        vertical-align: top;\n",
              "    }\n",
              "\n",
              "    .dataframe thead th {\n",
              "        text-align: right;\n",
              "    }\n",
              "</style>\n",
              "<table border=\"1\" class=\"dataframe\">\n",
              "  <thead>\n",
              "    <tr style=\"text-align: right;\">\n",
              "      <th></th>\n",
              "      <th>date</th>\n",
              "      <th>home_team</th>\n",
              "      <th>away_team</th>\n",
              "      <th>home_score</th>\n",
              "      <th>away_score</th>\n",
              "      <th>tournament</th>\n",
              "      <th>city</th>\n",
              "      <th>country</th>\n",
              "      <th>neutral</th>\n",
              "    </tr>\n",
              "  </thead>\n",
              "  <tbody>\n",
              "    <tr>\n",
              "      <th>0</th>\n",
              "      <td>1872-11-30</td>\n",
              "      <td>Scotland</td>\n",
              "      <td>England</td>\n",
              "      <td>0</td>\n",
              "      <td>0</td>\n",
              "      <td>Friendly</td>\n",
              "      <td>Glasgow</td>\n",
              "      <td>Scotland</td>\n",
              "      <td>False</td>\n",
              "    </tr>\n",
              "    <tr>\n",
              "      <th>1</th>\n",
              "      <td>1873-03-08</td>\n",
              "      <td>England</td>\n",
              "      <td>Scotland</td>\n",
              "      <td>4</td>\n",
              "      <td>2</td>\n",
              "      <td>Friendly</td>\n",
              "      <td>London</td>\n",
              "      <td>England</td>\n",
              "      <td>False</td>\n",
              "    </tr>\n",
              "    <tr>\n",
              "      <th>2</th>\n",
              "      <td>1874-03-07</td>\n",
              "      <td>Scotland</td>\n",
              "      <td>England</td>\n",
              "      <td>2</td>\n",
              "      <td>1</td>\n",
              "      <td>Friendly</td>\n",
              "      <td>Glasgow</td>\n",
              "      <td>Scotland</td>\n",
              "      <td>False</td>\n",
              "    </tr>\n",
              "    <tr>\n",
              "      <th>3</th>\n",
              "      <td>1875-03-06</td>\n",
              "      <td>England</td>\n",
              "      <td>Scotland</td>\n",
              "      <td>2</td>\n",
              "      <td>2</td>\n",
              "      <td>Friendly</td>\n",
              "      <td>London</td>\n",
              "      <td>England</td>\n",
              "      <td>False</td>\n",
              "    </tr>\n",
              "    <tr>\n",
              "      <th>4</th>\n",
              "      <td>1876-03-04</td>\n",
              "      <td>Scotland</td>\n",
              "      <td>England</td>\n",
              "      <td>3</td>\n",
              "      <td>0</td>\n",
              "      <td>Friendly</td>\n",
              "      <td>Glasgow</td>\n",
              "      <td>Scotland</td>\n",
              "      <td>False</td>\n",
              "    </tr>\n",
              "  </tbody>\n",
              "</table>\n",
              "</div>"
            ],
            "text/plain": [
              "         date home_team away_team  ...     city   country neutral\n",
              "0  1872-11-30  Scotland   England  ...  Glasgow  Scotland   False\n",
              "1  1873-03-08   England  Scotland  ...   London   England   False\n",
              "2  1874-03-07  Scotland   England  ...  Glasgow  Scotland   False\n",
              "3  1875-03-06   England  Scotland  ...   London   England   False\n",
              "4  1876-03-04  Scotland   England  ...  Glasgow  Scotland   False\n",
              "\n",
              "[5 rows x 9 columns]"
            ]
          },
          "metadata": {
            "tags": []
          },
          "execution_count": 3
        }
      ]
    },
    {
      "cell_type": "code",
      "metadata": {
        "id": "hS6oET7j8Y8P",
        "colab_type": "code",
        "outputId": "04fbc50e-de1d-4338-cdaa-9887331ec8cb",
        "colab": {
          "base_uri": "https://localhost:8080/",
          "height": 309
        }
      },
      "source": [
        "#previewing our dataset from football ranking dataset\n",
        "data2 = pd.read_csv(\"/content/fifa_ranking.csv\")\n",
        "data2.head()"
      ],
      "execution_count": 4,
      "outputs": [
        {
          "output_type": "execute_result",
          "data": {
            "text/html": [
              "<div>\n",
              "<style scoped>\n",
              "    .dataframe tbody tr th:only-of-type {\n",
              "        vertical-align: middle;\n",
              "    }\n",
              "\n",
              "    .dataframe tbody tr th {\n",
              "        vertical-align: top;\n",
              "    }\n",
              "\n",
              "    .dataframe thead th {\n",
              "        text-align: right;\n",
              "    }\n",
              "</style>\n",
              "<table border=\"1\" class=\"dataframe\">\n",
              "  <thead>\n",
              "    <tr style=\"text-align: right;\">\n",
              "      <th></th>\n",
              "      <th>rank</th>\n",
              "      <th>country_full</th>\n",
              "      <th>country_abrv</th>\n",
              "      <th>total_points</th>\n",
              "      <th>previous_points</th>\n",
              "      <th>rank_change</th>\n",
              "      <th>cur_year_avg</th>\n",
              "      <th>cur_year_avg_weighted</th>\n",
              "      <th>last_year_avg</th>\n",
              "      <th>last_year_avg_weighted</th>\n",
              "      <th>two_year_ago_avg</th>\n",
              "      <th>two_year_ago_weighted</th>\n",
              "      <th>three_year_ago_avg</th>\n",
              "      <th>three_year_ago_weighted</th>\n",
              "      <th>confederation</th>\n",
              "      <th>rank_date</th>\n",
              "    </tr>\n",
              "  </thead>\n",
              "  <tbody>\n",
              "    <tr>\n",
              "      <th>0</th>\n",
              "      <td>1</td>\n",
              "      <td>Germany</td>\n",
              "      <td>GER</td>\n",
              "      <td>0.0</td>\n",
              "      <td>57</td>\n",
              "      <td>0</td>\n",
              "      <td>0.0</td>\n",
              "      <td>0.0</td>\n",
              "      <td>0.0</td>\n",
              "      <td>0.0</td>\n",
              "      <td>0.0</td>\n",
              "      <td>0.0</td>\n",
              "      <td>0.0</td>\n",
              "      <td>0.0</td>\n",
              "      <td>UEFA</td>\n",
              "      <td>1993-08-08</td>\n",
              "    </tr>\n",
              "    <tr>\n",
              "      <th>1</th>\n",
              "      <td>2</td>\n",
              "      <td>Italy</td>\n",
              "      <td>ITA</td>\n",
              "      <td>0.0</td>\n",
              "      <td>57</td>\n",
              "      <td>0</td>\n",
              "      <td>0.0</td>\n",
              "      <td>0.0</td>\n",
              "      <td>0.0</td>\n",
              "      <td>0.0</td>\n",
              "      <td>0.0</td>\n",
              "      <td>0.0</td>\n",
              "      <td>0.0</td>\n",
              "      <td>0.0</td>\n",
              "      <td>UEFA</td>\n",
              "      <td>1993-08-08</td>\n",
              "    </tr>\n",
              "    <tr>\n",
              "      <th>2</th>\n",
              "      <td>3</td>\n",
              "      <td>Switzerland</td>\n",
              "      <td>SUI</td>\n",
              "      <td>0.0</td>\n",
              "      <td>50</td>\n",
              "      <td>9</td>\n",
              "      <td>0.0</td>\n",
              "      <td>0.0</td>\n",
              "      <td>0.0</td>\n",
              "      <td>0.0</td>\n",
              "      <td>0.0</td>\n",
              "      <td>0.0</td>\n",
              "      <td>0.0</td>\n",
              "      <td>0.0</td>\n",
              "      <td>UEFA</td>\n",
              "      <td>1993-08-08</td>\n",
              "    </tr>\n",
              "    <tr>\n",
              "      <th>3</th>\n",
              "      <td>4</td>\n",
              "      <td>Sweden</td>\n",
              "      <td>SWE</td>\n",
              "      <td>0.0</td>\n",
              "      <td>55</td>\n",
              "      <td>0</td>\n",
              "      <td>0.0</td>\n",
              "      <td>0.0</td>\n",
              "      <td>0.0</td>\n",
              "      <td>0.0</td>\n",
              "      <td>0.0</td>\n",
              "      <td>0.0</td>\n",
              "      <td>0.0</td>\n",
              "      <td>0.0</td>\n",
              "      <td>UEFA</td>\n",
              "      <td>1993-08-08</td>\n",
              "    </tr>\n",
              "    <tr>\n",
              "      <th>4</th>\n",
              "      <td>5</td>\n",
              "      <td>Argentina</td>\n",
              "      <td>ARG</td>\n",
              "      <td>0.0</td>\n",
              "      <td>51</td>\n",
              "      <td>5</td>\n",
              "      <td>0.0</td>\n",
              "      <td>0.0</td>\n",
              "      <td>0.0</td>\n",
              "      <td>0.0</td>\n",
              "      <td>0.0</td>\n",
              "      <td>0.0</td>\n",
              "      <td>0.0</td>\n",
              "      <td>0.0</td>\n",
              "      <td>CONMEBOL</td>\n",
              "      <td>1993-08-08</td>\n",
              "    </tr>\n",
              "  </tbody>\n",
              "</table>\n",
              "</div>"
            ],
            "text/plain": [
              "   rank country_full  ... confederation   rank_date\n",
              "0     1      Germany  ...          UEFA  1993-08-08\n",
              "1     2        Italy  ...          UEFA  1993-08-08\n",
              "2     3  Switzerland  ...          UEFA  1993-08-08\n",
              "3     4       Sweden  ...          UEFA  1993-08-08\n",
              "4     5    Argentina  ...      CONMEBOL  1993-08-08\n",
              "\n",
              "[5 rows x 16 columns]"
            ]
          },
          "metadata": {
            "tags": []
          },
          "execution_count": 4
        }
      ]
    },
    {
      "cell_type": "markdown",
      "metadata": {
        "id": "y_Kb-nrRXVb5",
        "colab_type": "text"
      },
      "source": [
        "#CLEANING "
      ]
    },
    {
      "cell_type": "code",
      "metadata": {
        "id": "vNJW8zI5Gxep",
        "colab_type": "code",
        "outputId": "70d22a21-aa96-4aa9-e8fb-a919f8b54852",
        "colab": {
          "base_uri": "https://localhost:8080/",
          "height": 119
        }
      },
      "source": [
        "#renaming the rank_date column to date so as to easen merging of the two dataframes\n",
        "data2.rename(columns={\"rank_date\": \"date\"}, inplace = True)\n",
        "data2.columns"
      ],
      "execution_count": 5,
      "outputs": [
        {
          "output_type": "execute_result",
          "data": {
            "text/plain": [
              "Index(['rank', 'country_full', 'country_abrv', 'total_points',\n",
              "       'previous_points', 'rank_change', 'cur_year_avg',\n",
              "       'cur_year_avg_weighted', 'last_year_avg', 'last_year_avg_weighted',\n",
              "       'two_year_ago_avg', 'two_year_ago_weighted', 'three_year_ago_avg',\n",
              "       'three_year_ago_weighted', 'confederation', 'date'],\n",
              "      dtype='object')"
            ]
          },
          "metadata": {
            "tags": []
          },
          "execution_count": 5
        }
      ]
    },
    {
      "cell_type": "code",
      "metadata": {
        "id": "8-wOInI18o9x",
        "colab_type": "code",
        "outputId": "57fdcbff-7944-4f87-c4ed-c4ddfa979dd3",
        "colab": {
          "base_uri": "https://localhost:8080/",
          "height": 34
        }
      },
      "source": [
        "#looking at both datasets number of rows and columns\n",
        "data2.shape               "
      ],
      "execution_count": 6,
      "outputs": [
        {
          "output_type": "execute_result",
          "data": {
            "text/plain": [
              "(57793, 16)"
            ]
          },
          "metadata": {
            "tags": []
          },
          "execution_count": 6
        }
      ]
    },
    {
      "cell_type": "code",
      "metadata": {
        "id": "ik0EuC-99GKK",
        "colab_type": "code",
        "outputId": "876b43ec-b75e-49bf-c5ba-65ab2a102963",
        "colab": {
          "base_uri": "https://localhost:8080/",
          "height": 34
        }
      },
      "source": [
        "football.shape"
      ],
      "execution_count": 7,
      "outputs": [
        {
          "output_type": "execute_result",
          "data": {
            "text/plain": [
              "(40839, 9)"
            ]
          },
          "metadata": {
            "tags": []
          },
          "execution_count": 7
        }
      ]
    },
    {
      "cell_type": "code",
      "metadata": {
        "id": "ouesNBj7Ez_x",
        "colab_type": "code",
        "outputId": "f284b8f7-361f-45c0-d2e5-bb1fff4719d4",
        "colab": {
          "base_uri": "https://localhost:8080/",
          "height": 394
        }
      },
      "source": [
        "#merging football to the data2 \n",
        "\n",
        "df_merge = pd.merge(football, data2, on='date')\n",
        "\n",
        "df_merge.head()\n"
      ],
      "execution_count": 8,
      "outputs": [
        {
          "output_type": "execute_result",
          "data": {
            "text/html": [
              "<div>\n",
              "<style scoped>\n",
              "    .dataframe tbody tr th:only-of-type {\n",
              "        vertical-align: middle;\n",
              "    }\n",
              "\n",
              "    .dataframe tbody tr th {\n",
              "        vertical-align: top;\n",
              "    }\n",
              "\n",
              "    .dataframe thead th {\n",
              "        text-align: right;\n",
              "    }\n",
              "</style>\n",
              "<table border=\"1\" class=\"dataframe\">\n",
              "  <thead>\n",
              "    <tr style=\"text-align: right;\">\n",
              "      <th></th>\n",
              "      <th>date</th>\n",
              "      <th>home_team</th>\n",
              "      <th>away_team</th>\n",
              "      <th>home_score</th>\n",
              "      <th>away_score</th>\n",
              "      <th>tournament</th>\n",
              "      <th>city</th>\n",
              "      <th>country</th>\n",
              "      <th>neutral</th>\n",
              "      <th>rank</th>\n",
              "      <th>country_full</th>\n",
              "      <th>country_abrv</th>\n",
              "      <th>total_points</th>\n",
              "      <th>previous_points</th>\n",
              "      <th>rank_change</th>\n",
              "      <th>cur_year_avg</th>\n",
              "      <th>cur_year_avg_weighted</th>\n",
              "      <th>last_year_avg</th>\n",
              "      <th>last_year_avg_weighted</th>\n",
              "      <th>two_year_ago_avg</th>\n",
              "      <th>two_year_ago_weighted</th>\n",
              "      <th>three_year_ago_avg</th>\n",
              "      <th>three_year_ago_weighted</th>\n",
              "      <th>confederation</th>\n",
              "    </tr>\n",
              "  </thead>\n",
              "  <tbody>\n",
              "    <tr>\n",
              "      <th>0</th>\n",
              "      <td>1993-08-08</td>\n",
              "      <td>Bolivia</td>\n",
              "      <td>Uruguay</td>\n",
              "      <td>3</td>\n",
              "      <td>1</td>\n",
              "      <td>FIFA World Cup qualification</td>\n",
              "      <td>La Paz</td>\n",
              "      <td>Bolivia</td>\n",
              "      <td>False</td>\n",
              "      <td>1</td>\n",
              "      <td>Germany</td>\n",
              "      <td>GER</td>\n",
              "      <td>0.0</td>\n",
              "      <td>57</td>\n",
              "      <td>0</td>\n",
              "      <td>0.0</td>\n",
              "      <td>0.0</td>\n",
              "      <td>0.0</td>\n",
              "      <td>0.0</td>\n",
              "      <td>0.0</td>\n",
              "      <td>0.0</td>\n",
              "      <td>0.0</td>\n",
              "      <td>0.0</td>\n",
              "      <td>UEFA</td>\n",
              "    </tr>\n",
              "    <tr>\n",
              "      <th>1</th>\n",
              "      <td>1993-08-08</td>\n",
              "      <td>Bolivia</td>\n",
              "      <td>Uruguay</td>\n",
              "      <td>3</td>\n",
              "      <td>1</td>\n",
              "      <td>FIFA World Cup qualification</td>\n",
              "      <td>La Paz</td>\n",
              "      <td>Bolivia</td>\n",
              "      <td>False</td>\n",
              "      <td>2</td>\n",
              "      <td>Italy</td>\n",
              "      <td>ITA</td>\n",
              "      <td>0.0</td>\n",
              "      <td>57</td>\n",
              "      <td>0</td>\n",
              "      <td>0.0</td>\n",
              "      <td>0.0</td>\n",
              "      <td>0.0</td>\n",
              "      <td>0.0</td>\n",
              "      <td>0.0</td>\n",
              "      <td>0.0</td>\n",
              "      <td>0.0</td>\n",
              "      <td>0.0</td>\n",
              "      <td>UEFA</td>\n",
              "    </tr>\n",
              "    <tr>\n",
              "      <th>2</th>\n",
              "      <td>1993-08-08</td>\n",
              "      <td>Bolivia</td>\n",
              "      <td>Uruguay</td>\n",
              "      <td>3</td>\n",
              "      <td>1</td>\n",
              "      <td>FIFA World Cup qualification</td>\n",
              "      <td>La Paz</td>\n",
              "      <td>Bolivia</td>\n",
              "      <td>False</td>\n",
              "      <td>3</td>\n",
              "      <td>Switzerland</td>\n",
              "      <td>SUI</td>\n",
              "      <td>0.0</td>\n",
              "      <td>50</td>\n",
              "      <td>9</td>\n",
              "      <td>0.0</td>\n",
              "      <td>0.0</td>\n",
              "      <td>0.0</td>\n",
              "      <td>0.0</td>\n",
              "      <td>0.0</td>\n",
              "      <td>0.0</td>\n",
              "      <td>0.0</td>\n",
              "      <td>0.0</td>\n",
              "      <td>UEFA</td>\n",
              "    </tr>\n",
              "    <tr>\n",
              "      <th>3</th>\n",
              "      <td>1993-08-08</td>\n",
              "      <td>Bolivia</td>\n",
              "      <td>Uruguay</td>\n",
              "      <td>3</td>\n",
              "      <td>1</td>\n",
              "      <td>FIFA World Cup qualification</td>\n",
              "      <td>La Paz</td>\n",
              "      <td>Bolivia</td>\n",
              "      <td>False</td>\n",
              "      <td>4</td>\n",
              "      <td>Sweden</td>\n",
              "      <td>SWE</td>\n",
              "      <td>0.0</td>\n",
              "      <td>55</td>\n",
              "      <td>0</td>\n",
              "      <td>0.0</td>\n",
              "      <td>0.0</td>\n",
              "      <td>0.0</td>\n",
              "      <td>0.0</td>\n",
              "      <td>0.0</td>\n",
              "      <td>0.0</td>\n",
              "      <td>0.0</td>\n",
              "      <td>0.0</td>\n",
              "      <td>UEFA</td>\n",
              "    </tr>\n",
              "    <tr>\n",
              "      <th>4</th>\n",
              "      <td>1993-08-08</td>\n",
              "      <td>Bolivia</td>\n",
              "      <td>Uruguay</td>\n",
              "      <td>3</td>\n",
              "      <td>1</td>\n",
              "      <td>FIFA World Cup qualification</td>\n",
              "      <td>La Paz</td>\n",
              "      <td>Bolivia</td>\n",
              "      <td>False</td>\n",
              "      <td>5</td>\n",
              "      <td>Argentina</td>\n",
              "      <td>ARG</td>\n",
              "      <td>0.0</td>\n",
              "      <td>51</td>\n",
              "      <td>5</td>\n",
              "      <td>0.0</td>\n",
              "      <td>0.0</td>\n",
              "      <td>0.0</td>\n",
              "      <td>0.0</td>\n",
              "      <td>0.0</td>\n",
              "      <td>0.0</td>\n",
              "      <td>0.0</td>\n",
              "      <td>0.0</td>\n",
              "      <td>CONMEBOL</td>\n",
              "    </tr>\n",
              "  </tbody>\n",
              "</table>\n",
              "</div>"
            ],
            "text/plain": [
              "         date home_team  ... three_year_ago_weighted  confederation\n",
              "0  1993-08-08   Bolivia  ...                     0.0           UEFA\n",
              "1  1993-08-08   Bolivia  ...                     0.0           UEFA\n",
              "2  1993-08-08   Bolivia  ...                     0.0           UEFA\n",
              "3  1993-08-08   Bolivia  ...                     0.0           UEFA\n",
              "4  1993-08-08   Bolivia  ...                     0.0       CONMEBOL\n",
              "\n",
              "[5 rows x 24 columns]"
            ]
          },
          "metadata": {
            "tags": []
          },
          "execution_count": 8
        }
      ]
    },
    {
      "cell_type": "code",
      "metadata": {
        "id": "jcZGUbxSM4XU",
        "colab_type": "code",
        "colab": {
          "base_uri": "https://localhost:8080/",
          "height": 493
        },
        "outputId": "03cf5964-ad53-4089-9163-c0fd829439c4"
      },
      "source": [
        "#checking for null values in our dataset\n",
        "df_merge.isnull().sum()"
      ],
      "execution_count": 59,
      "outputs": [
        {
          "output_type": "execute_result",
          "data": {
            "text/plain": [
              "date                       0\n",
              "home_team                  0\n",
              "away_team                  0\n",
              "home_score                 0\n",
              "away_score                 0\n",
              "tournament                 0\n",
              "city                       0\n",
              "country                    0\n",
              "neutral                    0\n",
              "rank                       0\n",
              "country_full               0\n",
              "country_abrv               0\n",
              "total_points               0\n",
              "previous_points            0\n",
              "rank_change                0\n",
              "cur_year_avg               0\n",
              "cur_year_avg_weighted      0\n",
              "last_year_avg              0\n",
              "last_year_avg_weighted     0\n",
              "two_year_ago_avg           0\n",
              "two_year_ago_weighted      0\n",
              "three_year_ago_avg         0\n",
              "three_year_ago_weighted    0\n",
              "confederation              0\n",
              "results                    0\n",
              "result_num                 0\n",
              "neutral_num                0\n",
              "dtype: int64"
            ]
          },
          "metadata": {
            "tags": []
          },
          "execution_count": 59
        }
      ]
    },
    {
      "cell_type": "code",
      "metadata": {
        "id": "CK3omn6ONC_i",
        "colab_type": "code",
        "colab": {
          "base_uri": "https://localhost:8080/",
          "height": 34
        },
        "outputId": "aa894d63-4c00-4217-a3d3-0dbed885544d"
      },
      "source": [
        "#checking for any duplicates in our dataset\n",
        "df_merge.duplicated().sum()"
      ],
      "execution_count": 61,
      "outputs": [
        {
          "output_type": "execute_result",
          "data": {
            "text/plain": [
              "33"
            ]
          },
          "metadata": {
            "tags": []
          },
          "execution_count": 61
        }
      ]
    },
    {
      "cell_type": "code",
      "metadata": {
        "id": "yBKMxOLpNTUr",
        "colab_type": "code",
        "colab": {}
      },
      "source": [
        "#removing any duplicated data\n",
        "df_merge.drop_duplicates(keep = 'first', inplace = True)"
      ],
      "execution_count": 0,
      "outputs": []
    },
    {
      "cell_type": "code",
      "metadata": {
        "id": "8p6bgsMxNuBs",
        "colab_type": "code",
        "colab": {
          "base_uri": "https://localhost:8080/",
          "height": 34
        },
        "outputId": "e6246d87-d4f1-4e3d-9a43-81019dc7b838"
      },
      "source": [
        "#checking for any duplicated data\n",
        "df_merge.duplicated().sum()"
      ],
      "execution_count": 65,
      "outputs": [
        {
          "output_type": "execute_result",
          "data": {
            "text/plain": [
              "0"
            ]
          },
          "metadata": {
            "tags": []
          },
          "execution_count": 65
        }
      ]
    },
    {
      "cell_type": "markdown",
      "metadata": {
        "id": "B9s_1dGy9V0m",
        "colab_type": "text"
      },
      "source": [
        "# ANALYSIS"
      ]
    },
    {
      "cell_type": "code",
      "metadata": {
        "id": "M0DcvpCy431_",
        "colab_type": "code",
        "outputId": "57257930-2c29-4a7c-ecdf-2e582c43e895",
        "colab": {
          "base_uri": "https://localhost:8080/",
          "height": 1000
        }
      },
      "source": [
        "#correlation between columns\n",
        "corr1 = df_merge.corr()\n",
        "corr1\n",
        "plt.figure(figsize = (20,20))\n",
        "sns.heatmap(corr1,annot=True )\n"
      ],
      "execution_count": 9,
      "outputs": [
        {
          "output_type": "execute_result",
          "data": {
            "text/plain": [
              "<matplotlib.axes._subplots.AxesSubplot at 0x7f8e1e29b9b0>"
            ]
          },
          "metadata": {
            "tags": []
          },
          "execution_count": 9
        },
        {
          "output_type": "display_data",
          "data": {
            "image/png": "[encoded data removed]",
            "text/plain": [
              "<Figure size 1440x1440 with 2 Axes>"
            ]
          },
          "metadata": {
            "tags": []
          }
        }
      ]
    },
    {
      "cell_type": "code",
      "metadata": {
        "id": "6C_GR9Ra_XJV",
        "colab_type": "code",
        "outputId": "1fe9af03-cd60-4ab8-94f2-35e3d6c74716",
        "colab": {
          "base_uri": "https://localhost:8080/",
          "height": 34
        }
      },
      "source": [
        "#looking at the number of rows and columns\n",
        "df_merge.shape\n"
      ],
      "execution_count": 10,
      "outputs": [
        {
          "output_type": "execute_result",
          "data": {
            "text/plain": [
              "(212831, 24)"
            ]
          },
          "metadata": {
            "tags": []
          },
          "execution_count": 10
        }
      ]
    },
    {
      "cell_type": "code",
      "metadata": {
        "id": "2GXh2hs_QEwo",
        "colab_type": "code",
        "colab": {
          "base_uri": "https://localhost:8080/",
          "height": 317
        },
        "outputId": "bf415da5-c530-4075-d08b-41824b03f320"
      },
      "source": [
        "#checking the sifferent statistics of each column\n",
        "df_merge.describe()"
      ],
      "execution_count": 66,
      "outputs": [
        {
          "output_type": "execute_result",
          "data": {
            "text/html": [
              "<div>\n",
              "<style scoped>\n",
              "    .dataframe tbody tr th:only-of-type {\n",
              "        vertical-align: middle;\n",
              "    }\n",
              "\n",
              "    .dataframe tbody tr th {\n",
              "        vertical-align: top;\n",
              "    }\n",
              "\n",
              "    .dataframe thead th {\n",
              "        text-align: right;\n",
              "    }\n",
              "</style>\n",
              "<table border=\"1\" class=\"dataframe\">\n",
              "  <thead>\n",
              "    <tr style=\"text-align: right;\">\n",
              "      <th></th>\n",
              "      <th>home_score</th>\n",
              "      <th>away_score</th>\n",
              "      <th>rank</th>\n",
              "      <th>total_points</th>\n",
              "      <th>previous_points</th>\n",
              "      <th>rank_change</th>\n",
              "      <th>cur_year_avg</th>\n",
              "      <th>cur_year_avg_weighted</th>\n",
              "      <th>last_year_avg</th>\n",
              "      <th>last_year_avg_weighted</th>\n",
              "      <th>two_year_ago_avg</th>\n",
              "      <th>two_year_ago_weighted</th>\n",
              "      <th>three_year_ago_avg</th>\n",
              "      <th>three_year_ago_weighted</th>\n",
              "      <th>result_num</th>\n",
              "      <th>neutral_num</th>\n",
              "    </tr>\n",
              "  </thead>\n",
              "  <tbody>\n",
              "    <tr>\n",
              "      <th>count</th>\n",
              "      <td>212798.000000</td>\n",
              "      <td>212798.000000</td>\n",
              "      <td>212798.000000</td>\n",
              "      <td>212798.000000</td>\n",
              "      <td>212798.000000</td>\n",
              "      <td>212798.000000</td>\n",
              "      <td>212798.000000</td>\n",
              "      <td>212798.000000</td>\n",
              "      <td>212798.000000</td>\n",
              "      <td>212798.000000</td>\n",
              "      <td>212798.000000</td>\n",
              "      <td>212798.000000</td>\n",
              "      <td>212798.000000</td>\n",
              "      <td>212798.000000</td>\n",
              "      <td>212798.000000</td>\n",
              "      <td>212798.000000</td>\n",
              "    </tr>\n",
              "    <tr>\n",
              "      <th>mean</th>\n",
              "      <td>1.682098</td>\n",
              "      <td>1.046951</td>\n",
              "      <td>101.864012</td>\n",
              "      <td>42.556582</td>\n",
              "      <td>341.234626</td>\n",
              "      <td>-0.009502</td>\n",
              "      <td>21.481468</td>\n",
              "      <td>21.481468</td>\n",
              "      <td>21.100183</td>\n",
              "      <td>10.550111</td>\n",
              "      <td>20.966169</td>\n",
              "      <td>6.289856</td>\n",
              "      <td>21.176083</td>\n",
              "      <td>4.235237</td>\n",
              "      <td>1.240035</td>\n",
              "      <td>0.184795</td>\n",
              "    </tr>\n",
              "    <tr>\n",
              "      <th>std</th>\n",
              "      <td>1.969885</td>\n",
              "      <td>1.257602</td>\n",
              "      <td>58.649297</td>\n",
              "      <td>163.890165</td>\n",
              "      <td>295.103291</td>\n",
              "      <td>4.537499</td>\n",
              "      <td>85.357707</td>\n",
              "      <td>85.357707</td>\n",
              "      <td>89.725337</td>\n",
              "      <td>44.862704</td>\n",
              "      <td>84.558722</td>\n",
              "      <td>25.367622</td>\n",
              "      <td>86.292406</td>\n",
              "      <td>17.258509</td>\n",
              "      <td>0.823921</td>\n",
              "      <td>0.388132</td>\n",
              "    </tr>\n",
              "    <tr>\n",
              "      <th>min</th>\n",
              "      <td>0.000000</td>\n",
              "      <td>0.000000</td>\n",
              "      <td>1.000000</td>\n",
              "      <td>0.000000</td>\n",
              "      <td>0.000000</td>\n",
              "      <td>-62.000000</td>\n",
              "      <td>0.000000</td>\n",
              "      <td>0.000000</td>\n",
              "      <td>0.000000</td>\n",
              "      <td>0.000000</td>\n",
              "      <td>0.000000</td>\n",
              "      <td>0.000000</td>\n",
              "      <td>0.000000</td>\n",
              "      <td>0.000000</td>\n",
              "      <td>0.000000</td>\n",
              "      <td>0.000000</td>\n",
              "    </tr>\n",
              "    <tr>\n",
              "      <th>25%</th>\n",
              "      <td>0.000000</td>\n",
              "      <td>0.000000</td>\n",
              "      <td>51.000000</td>\n",
              "      <td>0.000000</td>\n",
              "      <td>71.000000</td>\n",
              "      <td>-1.000000</td>\n",
              "      <td>0.000000</td>\n",
              "      <td>0.000000</td>\n",
              "      <td>0.000000</td>\n",
              "      <td>0.000000</td>\n",
              "      <td>0.000000</td>\n",
              "      <td>0.000000</td>\n",
              "      <td>0.000000</td>\n",
              "      <td>0.000000</td>\n",
              "      <td>1.000000</td>\n",
              "      <td>0.000000</td>\n",
              "    </tr>\n",
              "    <tr>\n",
              "      <th>50%</th>\n",
              "      <td>1.000000</td>\n",
              "      <td>1.000000</td>\n",
              "      <td>102.000000</td>\n",
              "      <td>0.000000</td>\n",
              "      <td>297.000000</td>\n",
              "      <td>0.000000</td>\n",
              "      <td>0.000000</td>\n",
              "      <td>0.000000</td>\n",
              "      <td>0.000000</td>\n",
              "      <td>0.000000</td>\n",
              "      <td>0.000000</td>\n",
              "      <td>0.000000</td>\n",
              "      <td>0.000000</td>\n",
              "      <td>0.000000</td>\n",
              "      <td>1.000000</td>\n",
              "      <td>0.000000</td>\n",
              "    </tr>\n",
              "    <tr>\n",
              "      <th>75%</th>\n",
              "      <td>2.000000</td>\n",
              "      <td>2.000000</td>\n",
              "      <td>152.000000</td>\n",
              "      <td>0.000000</td>\n",
              "      <td>531.000000</td>\n",
              "      <td>1.000000</td>\n",
              "      <td>0.000000</td>\n",
              "      <td>0.000000</td>\n",
              "      <td>0.000000</td>\n",
              "      <td>0.000000</td>\n",
              "      <td>0.000000</td>\n",
              "      <td>0.000000</td>\n",
              "      <td>0.000000</td>\n",
              "      <td>0.000000</td>\n",
              "      <td>2.000000</td>\n",
              "      <td>0.000000</td>\n",
              "    </tr>\n",
              "    <tr>\n",
              "      <th>max</th>\n",
              "      <td>31.000000</td>\n",
              "      <td>12.000000</td>\n",
              "      <td>209.000000</td>\n",
              "      <td>1770.060000</td>\n",
              "      <td>1920.000000</td>\n",
              "      <td>71.000000</td>\n",
              "      <td>1126.040000</td>\n",
              "      <td>1126.040000</td>\n",
              "      <td>1169.570000</td>\n",
              "      <td>584.790000</td>\n",
              "      <td>1159.710000</td>\n",
              "      <td>347.910000</td>\n",
              "      <td>1200.770000</td>\n",
              "      <td>240.150000</td>\n",
              "      <td>2.000000</td>\n",
              "      <td>1.000000</td>\n",
              "    </tr>\n",
              "  </tbody>\n",
              "</table>\n",
              "</div>"
            ],
            "text/plain": [
              "          home_score     away_score  ...     result_num    neutral_num\n",
              "count  212798.000000  212798.000000  ...  212798.000000  212798.000000\n",
              "mean        1.682098       1.046951  ...       1.240035       0.184795\n",
              "std         1.969885       1.257602  ...       0.823921       0.388132\n",
              "min         0.000000       0.000000  ...       0.000000       0.000000\n",
              "25%         0.000000       0.000000  ...       1.000000       0.000000\n",
              "50%         1.000000       1.000000  ...       1.000000       0.000000\n",
              "75%         2.000000       2.000000  ...       2.000000       0.000000\n",
              "max        31.000000      12.000000  ...       2.000000       1.000000\n",
              "\n",
              "[8 rows x 16 columns]"
            ]
          },
          "metadata": {
            "tags": []
          },
          "execution_count": 66
        }
      ]
    },
    {
      "cell_type": "code",
      "metadata": {
        "id": "t3GqxMdrABL0",
        "colab_type": "code",
        "outputId": "ffc078b5-b083-423d-e029-d291c3c5d646",
        "colab": {
          "base_uri": "https://localhost:8080/",
          "height": 510
        }
      },
      "source": [
        "#the datatypes of each column of the merged dataset\n",
        "df_merge.info()"
      ],
      "execution_count": 12,
      "outputs": [
        {
          "output_type": "stream",
          "text": [
            "<class 'pandas.core.frame.DataFrame'>\n",
            "Int64Index: 212831 entries, 0 to 212830\n",
            "Data columns (total 24 columns):\n",
            "date                       212831 non-null object\n",
            "home_team                  212831 non-null object\n",
            "away_team                  212831 non-null object\n",
            "home_score                 212831 non-null int64\n",
            "away_score                 212831 non-null int64\n",
            "tournament                 212831 non-null object\n",
            "city                       212831 non-null object\n",
            "country                    212831 non-null object\n",
            "neutral                    212831 non-null bool\n",
            "rank                       212831 non-null int64\n",
            "country_full               212831 non-null object\n",
            "country_abrv               212831 non-null object\n",
            "total_points               212831 non-null float64\n",
            "previous_points            212831 non-null int64\n",
            "rank_change                212831 non-null int64\n",
            "cur_year_avg               212831 non-null float64\n",
            "cur_year_avg_weighted      212831 non-null float64\n",
            "last_year_avg              212831 non-null float64\n",
            "last_year_avg_weighted     212831 non-null float64\n",
            "two_year_ago_avg           212831 non-null float64\n",
            "two_year_ago_weighted      212831 non-null float64\n",
            "three_year_ago_avg         212831 non-null float64\n",
            "three_year_ago_weighted    212831 non-null float64\n",
            "confederation              212831 non-null object\n",
            "dtypes: bool(1), float64(9), int64(5), object(9)\n",
            "memory usage: 39.2+ MB\n"
          ],
          "name": "stdout"
        }
      ]
    },
    {
      "cell_type": "code",
      "metadata": {
        "id": "wJwWGn-9QT9M",
        "colab_type": "code",
        "colab": {
          "base_uri": "https://localhost:8080/",
          "height": 493
        },
        "outputId": "84173521-571a-4a64-e0ec-87706f96549f"
      },
      "source": [
        "#checking the datatypes of each column\n",
        "df_merge.dtypes"
      ],
      "execution_count": 67,
      "outputs": [
        {
          "output_type": "execute_result",
          "data": {
            "text/plain": [
              "date                        object\n",
              "home_team                   object\n",
              "away_team                   object\n",
              "home_score                   int64\n",
              "away_score                   int64\n",
              "tournament                  object\n",
              "city                        object\n",
              "country                     object\n",
              "neutral                       bool\n",
              "rank                         int64\n",
              "country_full                object\n",
              "country_abrv                object\n",
              "total_points               float64\n",
              "previous_points              int64\n",
              "rank_change                  int64\n",
              "cur_year_avg               float64\n",
              "cur_year_avg_weighted      float64\n",
              "last_year_avg              float64\n",
              "last_year_avg_weighted     float64\n",
              "two_year_ago_avg           float64\n",
              "two_year_ago_weighted      float64\n",
              "three_year_ago_avg         float64\n",
              "three_year_ago_weighted    float64\n",
              "confederation               object\n",
              "results                     object\n",
              "result_num                   int64\n",
              "neutral_num                  int64\n",
              "dtype: object"
            ]
          },
          "metadata": {
            "tags": []
          },
          "execution_count": 67
        }
      ]
    },
    {
      "cell_type": "code",
      "metadata": {
        "id": "ckwtbOkO_WFo",
        "colab_type": "code",
        "outputId": "f5a2fbcf-b915-462e-b346-e47c6a3658bc",
        "colab": {
          "base_uri": "https://localhost:8080/",
          "height": 394
        }
      },
      "source": [
        "#showing a sample which played UEFA\n",
        "df = df_merge[(df_merge['confederation'] =='UEFA')]\n",
        "df.head()"
      ],
      "execution_count": 13,
      "outputs": [
        {
          "output_type": "execute_result",
          "data": {
            "text/html": [
              "<div>\n",
              "<style scoped>\n",
              "    .dataframe tbody tr th:only-of-type {\n",
              "        vertical-align: middle;\n",
              "    }\n",
              "\n",
              "    .dataframe tbody tr th {\n",
              "        vertical-align: top;\n",
              "    }\n",
              "\n",
              "    .dataframe thead th {\n",
              "        text-align: right;\n",
              "    }\n",
              "</style>\n",
              "<table border=\"1\" class=\"dataframe\">\n",
              "  <thead>\n",
              "    <tr style=\"text-align: right;\">\n",
              "      <th></th>\n",
              "      <th>date</th>\n",
              "      <th>home_team</th>\n",
              "      <th>away_team</th>\n",
              "      <th>home_score</th>\n",
              "      <th>away_score</th>\n",
              "      <th>tournament</th>\n",
              "      <th>city</th>\n",
              "      <th>country</th>\n",
              "      <th>neutral</th>\n",
              "      <th>rank</th>\n",
              "      <th>country_full</th>\n",
              "      <th>country_abrv</th>\n",
              "      <th>total_points</th>\n",
              "      <th>previous_points</th>\n",
              "      <th>rank_change</th>\n",
              "      <th>cur_year_avg</th>\n",
              "      <th>cur_year_avg_weighted</th>\n",
              "      <th>last_year_avg</th>\n",
              "      <th>last_year_avg_weighted</th>\n",
              "      <th>two_year_ago_avg</th>\n",
              "      <th>two_year_ago_weighted</th>\n",
              "      <th>three_year_ago_avg</th>\n",
              "      <th>three_year_ago_weighted</th>\n",
              "      <th>confederation</th>\n",
              "    </tr>\n",
              "  </thead>\n",
              "  <tbody>\n",
              "    <tr>\n",
              "      <th>0</th>\n",
              "      <td>1993-08-08</td>\n",
              "      <td>Bolivia</td>\n",
              "      <td>Uruguay</td>\n",
              "      <td>3</td>\n",
              "      <td>1</td>\n",
              "      <td>FIFA World Cup qualification</td>\n",
              "      <td>La Paz</td>\n",
              "      <td>Bolivia</td>\n",
              "      <td>False</td>\n",
              "      <td>1</td>\n",
              "      <td>Germany</td>\n",
              "      <td>GER</td>\n",
              "      <td>0.0</td>\n",
              "      <td>57</td>\n",
              "      <td>0</td>\n",
              "      <td>0.0</td>\n",
              "      <td>0.0</td>\n",
              "      <td>0.0</td>\n",
              "      <td>0.0</td>\n",
              "      <td>0.0</td>\n",
              "      <td>0.0</td>\n",
              "      <td>0.0</td>\n",
              "      <td>0.0</td>\n",
              "      <td>UEFA</td>\n",
              "    </tr>\n",
              "    <tr>\n",
              "      <th>1</th>\n",
              "      <td>1993-08-08</td>\n",
              "      <td>Bolivia</td>\n",
              "      <td>Uruguay</td>\n",
              "      <td>3</td>\n",
              "      <td>1</td>\n",
              "      <td>FIFA World Cup qualification</td>\n",
              "      <td>La Paz</td>\n",
              "      <td>Bolivia</td>\n",
              "      <td>False</td>\n",
              "      <td>2</td>\n",
              "      <td>Italy</td>\n",
              "      <td>ITA</td>\n",
              "      <td>0.0</td>\n",
              "      <td>57</td>\n",
              "      <td>0</td>\n",
              "      <td>0.0</td>\n",
              "      <td>0.0</td>\n",
              "      <td>0.0</td>\n",
              "      <td>0.0</td>\n",
              "      <td>0.0</td>\n",
              "      <td>0.0</td>\n",
              "      <td>0.0</td>\n",
              "      <td>0.0</td>\n",
              "      <td>UEFA</td>\n",
              "    </tr>\n",
              "    <tr>\n",
              "      <th>2</th>\n",
              "      <td>1993-08-08</td>\n",
              "      <td>Bolivia</td>\n",
              "      <td>Uruguay</td>\n",
              "      <td>3</td>\n",
              "      <td>1</td>\n",
              "      <td>FIFA World Cup qualification</td>\n",
              "      <td>La Paz</td>\n",
              "      <td>Bolivia</td>\n",
              "      <td>False</td>\n",
              "      <td>3</td>\n",
              "      <td>Switzerland</td>\n",
              "      <td>SUI</td>\n",
              "      <td>0.0</td>\n",
              "      <td>50</td>\n",
              "      <td>9</td>\n",
              "      <td>0.0</td>\n",
              "      <td>0.0</td>\n",
              "      <td>0.0</td>\n",
              "      <td>0.0</td>\n",
              "      <td>0.0</td>\n",
              "      <td>0.0</td>\n",
              "      <td>0.0</td>\n",
              "      <td>0.0</td>\n",
              "      <td>UEFA</td>\n",
              "    </tr>\n",
              "    <tr>\n",
              "      <th>3</th>\n",
              "      <td>1993-08-08</td>\n",
              "      <td>Bolivia</td>\n",
              "      <td>Uruguay</td>\n",
              "      <td>3</td>\n",
              "      <td>1</td>\n",
              "      <td>FIFA World Cup qualification</td>\n",
              "      <td>La Paz</td>\n",
              "      <td>Bolivia</td>\n",
              "      <td>False</td>\n",
              "      <td>4</td>\n",
              "      <td>Sweden</td>\n",
              "      <td>SWE</td>\n",
              "      <td>0.0</td>\n",
              "      <td>55</td>\n",
              "      <td>0</td>\n",
              "      <td>0.0</td>\n",
              "      <td>0.0</td>\n",
              "      <td>0.0</td>\n",
              "      <td>0.0</td>\n",
              "      <td>0.0</td>\n",
              "      <td>0.0</td>\n",
              "      <td>0.0</td>\n",
              "      <td>0.0</td>\n",
              "      <td>UEFA</td>\n",
              "    </tr>\n",
              "    <tr>\n",
              "      <th>5</th>\n",
              "      <td>1993-08-08</td>\n",
              "      <td>Bolivia</td>\n",
              "      <td>Uruguay</td>\n",
              "      <td>3</td>\n",
              "      <td>1</td>\n",
              "      <td>FIFA World Cup qualification</td>\n",
              "      <td>La Paz</td>\n",
              "      <td>Bolivia</td>\n",
              "      <td>False</td>\n",
              "      <td>6</td>\n",
              "      <td>Republic of Ireland</td>\n",
              "      <td>IRL</td>\n",
              "      <td>0.0</td>\n",
              "      <td>54</td>\n",
              "      <td>0</td>\n",
              "      <td>0.0</td>\n",
              "      <td>0.0</td>\n",
              "      <td>0.0</td>\n",
              "      <td>0.0</td>\n",
              "      <td>0.0</td>\n",
              "      <td>0.0</td>\n",
              "      <td>0.0</td>\n",
              "      <td>0.0</td>\n",
              "      <td>UEFA</td>\n",
              "    </tr>\n",
              "  </tbody>\n",
              "</table>\n",
              "</div>"
            ],
            "text/plain": [
              "         date home_team  ... three_year_ago_weighted  confederation\n",
              "0  1993-08-08   Bolivia  ...                     0.0           UEFA\n",
              "1  1993-08-08   Bolivia  ...                     0.0           UEFA\n",
              "2  1993-08-08   Bolivia  ...                     0.0           UEFA\n",
              "3  1993-08-08   Bolivia  ...                     0.0           UEFA\n",
              "5  1993-08-08   Bolivia  ...                     0.0           UEFA\n",
              "\n",
              "[5 rows x 24 columns]"
            ]
          },
          "metadata": {
            "tags": []
          },
          "execution_count": 13
        }
      ]
    },
    {
      "cell_type": "code",
      "metadata": {
        "id": "bFW0J7geQmhB",
        "colab_type": "code",
        "colab": {
          "base_uri": "https://localhost:8080/",
          "height": 549
        },
        "outputId": "7dabf2bb-4c36-40d7-e082-a276f04fb6e2"
      },
      "source": [
        "#checking for outliers in our dataset\n",
        "ax = sns.boxplot(x=\"tournament\", y=\"home_score\", data=df_merge)\n",
        "plt.xticks(rotation = 90)\n",
        "plt.figure(figsize = (100000,1000))\n",
        "plt.show()\n",
        "\n"
      ],
      "execution_count": 94,
      "outputs": [
        {
          "output_type": "display_data",
          "data": {
            "image/png": "[encoded data removed]",
            "text/plain": [
              "<Figure size 432x288 with 1 Axes>"
            ]
          },
          "metadata": {
            "tags": []
          }
        },
        {
          "output_type": "display_data",
          "data": {
            "text/plain": [
              "<Figure size 7.2e+06x72000 with 0 Axes>"
            ]
          },
          "metadata": {
            "tags": []
          }
        }
      ]
    },
    {
      "cell_type": "code",
      "metadata": {
        "id": "F5GNTUqhThKg",
        "colab_type": "code",
        "colab": {
          "base_uri": "https://localhost:8080/",
          "height": 319
        },
        "outputId": "c9b33ad0-ee63-4b2e-b752-ced2a3a0a542"
      },
      "source": [
        "ax = sns.boxplot(x=\"rank\",data=df_merge)\n",
        "plt.xticks(rotation = 90)\n",
        "plt.figure(figsize = (1000,10000))\n",
        "plt.show()"
      ],
      "execution_count": 84,
      "outputs": [
        {
          "output_type": "display_data",
          "data": {
            "image/png": "[encoded data removed]",
            "text/plain": [
              "<Figure size 432x288 with 1 Axes>"
            ]
          },
          "metadata": {
            "tags": []
          }
        },
        {
          "output_type": "display_data",
          "data": {
            "text/plain": [
              "<Figure size 72000x720000 with 0 Axes>"
            ]
          },
          "metadata": {
            "tags": []
          }
        }
      ]
    },
    {
      "cell_type": "code",
      "metadata": {
        "id": "xKNv2Qc2TvjY",
        "colab_type": "code",
        "colab": {
          "base_uri": "https://localhost:8080/",
          "height": 312
        },
        "outputId": "e99270c1-0ca0-4029-e0aa-6b543b3344fc"
      },
      "source": [
        "ax = sns.boxplot(x=\"home_score\", data=df_merge)\n",
        "plt.xticks(rotation = 90)\n",
        "plt.figure(figsize = (1000,10000))\n",
        "plt.show()"
      ],
      "execution_count": 86,
      "outputs": [
        {
          "output_type": "display_data",
          "data": {
            "image/png": "[encoded data removed]",
            "text/plain": [
              "<Figure size 432x288 with 1 Axes>"
            ]
          },
          "metadata": {
            "tags": []
          }
        },
        {
          "output_type": "display_data",
          "data": {
            "text/plain": [
              "<Figure size 72000x720000 with 0 Axes>"
            ]
          },
          "metadata": {
            "tags": []
          }
        }
      ]
    },
    {
      "cell_type": "code",
      "metadata": {
        "id": "hYR9A3w3T4km",
        "colab_type": "code",
        "colab": {
          "base_uri": "https://localhost:8080/",
          "height": 312
        },
        "outputId": "5586c751-8086-4e95-ceb6-f33bad415e9f"
      },
      "source": [
        "ax = sns.boxplot(x=\"away_score\", data=df_merge)\n",
        "plt.xticks(rotation = 90)\n",
        "plt.figure(figsize = (1000,10000))\n",
        "plt.show()"
      ],
      "execution_count": 87,
      "outputs": [
        {
          "output_type": "display_data",
          "data": {
            "image/png": "[encoded data removed]",
            "text/plain": [
              "<Figure size 432x288 with 1 Axes>"
            ]
          },
          "metadata": {
            "tags": []
          }
        },
        {
          "output_type": "display_data",
          "data": {
            "text/plain": [
              "<Figure size 72000x720000 with 0 Axes>"
            ]
          },
          "metadata": {
            "tags": []
          }
        }
      ]
    },
    {
      "cell_type": "code",
      "metadata": {
        "id": "Adg8T0JxUEUl",
        "colab_type": "code",
        "colab": {
          "base_uri": "https://localhost:8080/",
          "height": 895
        },
        "outputId": "d1be1dba-4957-4645-b372-29e409b946ea"
      },
      "source": [
        "sns.set(style='darkgrid')\n",
        "plt.figure(figsize=(30,10))\n",
        "plt.xticks(rotation = 90)\n",
        "sns.countplot(x='tournament', data=df_merge)\n"
      ],
      "execution_count": 92,
      "outputs": [
        {
          "output_type": "execute_result",
          "data": {
            "text/plain": [
              "<matplotlib.axes._subplots.AxesSubplot at 0x7f8e10503208>"
            ]
          },
          "metadata": {
            "tags": []
          },
          "execution_count": 92
        },
        {
          "output_type": "display_data",
          "data": {
            "image/png": "[encoded data removed]",
            "text/plain": [
              "<Figure size 2160x720 with 1 Axes>"
            ]
          },
          "metadata": {
            "tags": []
          }
        }
      ]
    },
    {
      "cell_type": "markdown",
      "metadata": {
        "id": "0NuTH-Uk-DzY",
        "colab_type": "text"
      },
      "source": [
        "# FEATURE ENGINEERING"
      ]
    },
    {
      "cell_type": "code",
      "metadata": {
        "id": "vuJXM04a-9Kj",
        "colab_type": "code",
        "outputId": "cfe463aa-68f7-45d2-c90f-cdfef7e0e1d1",
        "colab": {
          "base_uri": "https://localhost:8080/",
          "height": 394
        }
      },
      "source": [
        "df_merge.head()"
      ],
      "execution_count": 16,
      "outputs": [
        {
          "output_type": "execute_result",
          "data": {
            "text/html": [
              "<div>\n",
              "<style scoped>\n",
              "    .dataframe tbody tr th:only-of-type {\n",
              "        vertical-align: middle;\n",
              "    }\n",
              "\n",
              "    .dataframe tbody tr th {\n",
              "        vertical-align: top;\n",
              "    }\n",
              "\n",
              "    .dataframe thead th {\n",
              "        text-align: right;\n",
              "    }\n",
              "</style>\n",
              "<table border=\"1\" class=\"dataframe\">\n",
              "  <thead>\n",
              "    <tr style=\"text-align: right;\">\n",
              "      <th></th>\n",
              "      <th>date</th>\n",
              "      <th>home_team</th>\n",
              "      <th>away_team</th>\n",
              "      <th>home_score</th>\n",
              "      <th>away_score</th>\n",
              "      <th>tournament</th>\n",
              "      <th>city</th>\n",
              "      <th>country</th>\n",
              "      <th>neutral</th>\n",
              "      <th>rank</th>\n",
              "      <th>country_full</th>\n",
              "      <th>country_abrv</th>\n",
              "      <th>total_points</th>\n",
              "      <th>previous_points</th>\n",
              "      <th>rank_change</th>\n",
              "      <th>cur_year_avg</th>\n",
              "      <th>cur_year_avg_weighted</th>\n",
              "      <th>last_year_avg</th>\n",
              "      <th>last_year_avg_weighted</th>\n",
              "      <th>two_year_ago_avg</th>\n",
              "      <th>two_year_ago_weighted</th>\n",
              "      <th>three_year_ago_avg</th>\n",
              "      <th>three_year_ago_weighted</th>\n",
              "      <th>confederation</th>\n",
              "    </tr>\n",
              "  </thead>\n",
              "  <tbody>\n",
              "    <tr>\n",
              "      <th>0</th>\n",
              "      <td>1993-08-08</td>\n",
              "      <td>Bolivia</td>\n",
              "      <td>Uruguay</td>\n",
              "      <td>3</td>\n",
              "      <td>1</td>\n",
              "      <td>FIFA World Cup qualification</td>\n",
              "      <td>La Paz</td>\n",
              "      <td>Bolivia</td>\n",
              "      <td>False</td>\n",
              "      <td>1</td>\n",
              "      <td>Germany</td>\n",
              "      <td>GER</td>\n",
              "      <td>0.0</td>\n",
              "      <td>57</td>\n",
              "      <td>0</td>\n",
              "      <td>0.0</td>\n",
              "      <td>0.0</td>\n",
              "      <td>0.0</td>\n",
              "      <td>0.0</td>\n",
              "      <td>0.0</td>\n",
              "      <td>0.0</td>\n",
              "      <td>0.0</td>\n",
              "      <td>0.0</td>\n",
              "      <td>UEFA</td>\n",
              "    </tr>\n",
              "    <tr>\n",
              "      <th>1</th>\n",
              "      <td>1993-08-08</td>\n",
              "      <td>Bolivia</td>\n",
              "      <td>Uruguay</td>\n",
              "      <td>3</td>\n",
              "      <td>1</td>\n",
              "      <td>FIFA World Cup qualification</td>\n",
              "      <td>La Paz</td>\n",
              "      <td>Bolivia</td>\n",
              "      <td>False</td>\n",
              "      <td>2</td>\n",
              "      <td>Italy</td>\n",
              "      <td>ITA</td>\n",
              "      <td>0.0</td>\n",
              "      <td>57</td>\n",
              "      <td>0</td>\n",
              "      <td>0.0</td>\n",
              "      <td>0.0</td>\n",
              "      <td>0.0</td>\n",
              "      <td>0.0</td>\n",
              "      <td>0.0</td>\n",
              "      <td>0.0</td>\n",
              "      <td>0.0</td>\n",
              "      <td>0.0</td>\n",
              "      <td>UEFA</td>\n",
              "    </tr>\n",
              "    <tr>\n",
              "      <th>2</th>\n",
              "      <td>1993-08-08</td>\n",
              "      <td>Bolivia</td>\n",
              "      <td>Uruguay</td>\n",
              "      <td>3</td>\n",
              "      <td>1</td>\n",
              "      <td>FIFA World Cup qualification</td>\n",
              "      <td>La Paz</td>\n",
              "      <td>Bolivia</td>\n",
              "      <td>False</td>\n",
              "      <td>3</td>\n",
              "      <td>Switzerland</td>\n",
              "      <td>SUI</td>\n",
              "      <td>0.0</td>\n",
              "      <td>50</td>\n",
              "      <td>9</td>\n",
              "      <td>0.0</td>\n",
              "      <td>0.0</td>\n",
              "      <td>0.0</td>\n",
              "      <td>0.0</td>\n",
              "      <td>0.0</td>\n",
              "      <td>0.0</td>\n",
              "      <td>0.0</td>\n",
              "      <td>0.0</td>\n",
              "      <td>UEFA</td>\n",
              "    </tr>\n",
              "    <tr>\n",
              "      <th>3</th>\n",
              "      <td>1993-08-08</td>\n",
              "      <td>Bolivia</td>\n",
              "      <td>Uruguay</td>\n",
              "      <td>3</td>\n",
              "      <td>1</td>\n",
              "      <td>FIFA World Cup qualification</td>\n",
              "      <td>La Paz</td>\n",
              "      <td>Bolivia</td>\n",
              "      <td>False</td>\n",
              "      <td>4</td>\n",
              "      <td>Sweden</td>\n",
              "      <td>SWE</td>\n",
              "      <td>0.0</td>\n",
              "      <td>55</td>\n",
              "      <td>0</td>\n",
              "      <td>0.0</td>\n",
              "      <td>0.0</td>\n",
              "      <td>0.0</td>\n",
              "      <td>0.0</td>\n",
              "      <td>0.0</td>\n",
              "      <td>0.0</td>\n",
              "      <td>0.0</td>\n",
              "      <td>0.0</td>\n",
              "      <td>UEFA</td>\n",
              "    </tr>\n",
              "    <tr>\n",
              "      <th>4</th>\n",
              "      <td>1993-08-08</td>\n",
              "      <td>Bolivia</td>\n",
              "      <td>Uruguay</td>\n",
              "      <td>3</td>\n",
              "      <td>1</td>\n",
              "      <td>FIFA World Cup qualification</td>\n",
              "      <td>La Paz</td>\n",
              "      <td>Bolivia</td>\n",
              "      <td>False</td>\n",
              "      <td>5</td>\n",
              "      <td>Argentina</td>\n",
              "      <td>ARG</td>\n",
              "      <td>0.0</td>\n",
              "      <td>51</td>\n",
              "      <td>5</td>\n",
              "      <td>0.0</td>\n",
              "      <td>0.0</td>\n",
              "      <td>0.0</td>\n",
              "      <td>0.0</td>\n",
              "      <td>0.0</td>\n",
              "      <td>0.0</td>\n",
              "      <td>0.0</td>\n",
              "      <td>0.0</td>\n",
              "      <td>CONMEBOL</td>\n",
              "    </tr>\n",
              "  </tbody>\n",
              "</table>\n",
              "</div>"
            ],
            "text/plain": [
              "         date home_team  ... three_year_ago_weighted  confederation\n",
              "0  1993-08-08   Bolivia  ...                     0.0           UEFA\n",
              "1  1993-08-08   Bolivia  ...                     0.0           UEFA\n",
              "2  1993-08-08   Bolivia  ...                     0.0           UEFA\n",
              "3  1993-08-08   Bolivia  ...                     0.0           UEFA\n",
              "4  1993-08-08   Bolivia  ...                     0.0       CONMEBOL\n",
              "\n",
              "[5 rows x 24 columns]"
            ]
          },
          "metadata": {
            "tags": []
          },
          "execution_count": 16
        }
      ]
    },
    {
      "cell_type": "code",
      "metadata": {
        "id": "0E4Rt-fQ_QTV",
        "colab_type": "code",
        "colab": {}
      },
      "source": [
        "#creating a difference between home score and away score so as to find the winning team and losing\n",
        "df_merge[\"results\"] = df_merge['home_score']-df_merge['away_score']"
      ],
      "execution_count": 0,
      "outputs": []
    },
    {
      "cell_type": "code",
      "metadata": {
        "id": "W4-LFRY6Aeq4",
        "colab_type": "code",
        "outputId": "11210dbd-fce0-4f35-e0d1-0b7318a8cf37",
        "colab": {
          "base_uri": "https://localhost:8080/",
          "height": 394
        }
      },
      "source": [
        "#checking the dataset for the outcome\n",
        "df_merge.head()"
      ],
      "execution_count": 18,
      "outputs": [
        {
          "output_type": "execute_result",
          "data": {
            "text/html": [
              "<div>\n",
              "<style scoped>\n",
              "    .dataframe tbody tr th:only-of-type {\n",
              "        vertical-align: middle;\n",
              "    }\n",
              "\n",
              "    .dataframe tbody tr th {\n",
              "        vertical-align: top;\n",
              "    }\n",
              "\n",
              "    .dataframe thead th {\n",
              "        text-align: right;\n",
              "    }\n",
              "</style>\n",
              "<table border=\"1\" class=\"dataframe\">\n",
              "  <thead>\n",
              "    <tr style=\"text-align: right;\">\n",
              "      <th></th>\n",
              "      <th>date</th>\n",
              "      <th>home_team</th>\n",
              "      <th>away_team</th>\n",
              "      <th>home_score</th>\n",
              "      <th>away_score</th>\n",
              "      <th>tournament</th>\n",
              "      <th>city</th>\n",
              "      <th>country</th>\n",
              "      <th>neutral</th>\n",
              "      <th>rank</th>\n",
              "      <th>country_full</th>\n",
              "      <th>country_abrv</th>\n",
              "      <th>total_points</th>\n",
              "      <th>previous_points</th>\n",
              "      <th>rank_change</th>\n",
              "      <th>cur_year_avg</th>\n",
              "      <th>cur_year_avg_weighted</th>\n",
              "      <th>last_year_avg</th>\n",
              "      <th>last_year_avg_weighted</th>\n",
              "      <th>two_year_ago_avg</th>\n",
              "      <th>two_year_ago_weighted</th>\n",
              "      <th>three_year_ago_avg</th>\n",
              "      <th>three_year_ago_weighted</th>\n",
              "      <th>confederation</th>\n",
              "      <th>results</th>\n",
              "    </tr>\n",
              "  </thead>\n",
              "  <tbody>\n",
              "    <tr>\n",
              "      <th>0</th>\n",
              "      <td>1993-08-08</td>\n",
              "      <td>Bolivia</td>\n",
              "      <td>Uruguay</td>\n",
              "      <td>3</td>\n",
              "      <td>1</td>\n",
              "      <td>FIFA World Cup qualification</td>\n",
              "      <td>La Paz</td>\n",
              "      <td>Bolivia</td>\n",
              "      <td>False</td>\n",
              "      <td>1</td>\n",
              "      <td>Germany</td>\n",
              "      <td>GER</td>\n",
              "      <td>0.0</td>\n",
              "      <td>57</td>\n",
              "      <td>0</td>\n",
              "      <td>0.0</td>\n",
              "      <td>0.0</td>\n",
              "      <td>0.0</td>\n",
              "      <td>0.0</td>\n",
              "      <td>0.0</td>\n",
              "      <td>0.0</td>\n",
              "      <td>0.0</td>\n",
              "      <td>0.0</td>\n",
              "      <td>UEFA</td>\n",
              "      <td>2</td>\n",
              "    </tr>\n",
              "    <tr>\n",
              "      <th>1</th>\n",
              "      <td>1993-08-08</td>\n",
              "      <td>Bolivia</td>\n",
              "      <td>Uruguay</td>\n",
              "      <td>3</td>\n",
              "      <td>1</td>\n",
              "      <td>FIFA World Cup qualification</td>\n",
              "      <td>La Paz</td>\n",
              "      <td>Bolivia</td>\n",
              "      <td>False</td>\n",
              "      <td>2</td>\n",
              "      <td>Italy</td>\n",
              "      <td>ITA</td>\n",
              "      <td>0.0</td>\n",
              "      <td>57</td>\n",
              "      <td>0</td>\n",
              "      <td>0.0</td>\n",
              "      <td>0.0</td>\n",
              "      <td>0.0</td>\n",
              "      <td>0.0</td>\n",
              "      <td>0.0</td>\n",
              "      <td>0.0</td>\n",
              "      <td>0.0</td>\n",
              "      <td>0.0</td>\n",
              "      <td>UEFA</td>\n",
              "      <td>2</td>\n",
              "    </tr>\n",
              "    <tr>\n",
              "      <th>2</th>\n",
              "      <td>1993-08-08</td>\n",
              "      <td>Bolivia</td>\n",
              "      <td>Uruguay</td>\n",
              "      <td>3</td>\n",
              "      <td>1</td>\n",
              "      <td>FIFA World Cup qualification</td>\n",
              "      <td>La Paz</td>\n",
              "      <td>Bolivia</td>\n",
              "      <td>False</td>\n",
              "      <td>3</td>\n",
              "      <td>Switzerland</td>\n",
              "      <td>SUI</td>\n",
              "      <td>0.0</td>\n",
              "      <td>50</td>\n",
              "      <td>9</td>\n",
              "      <td>0.0</td>\n",
              "      <td>0.0</td>\n",
              "      <td>0.0</td>\n",
              "      <td>0.0</td>\n",
              "      <td>0.0</td>\n",
              "      <td>0.0</td>\n",
              "      <td>0.0</td>\n",
              "      <td>0.0</td>\n",
              "      <td>UEFA</td>\n",
              "      <td>2</td>\n",
              "    </tr>\n",
              "    <tr>\n",
              "      <th>3</th>\n",
              "      <td>1993-08-08</td>\n",
              "      <td>Bolivia</td>\n",
              "      <td>Uruguay</td>\n",
              "      <td>3</td>\n",
              "      <td>1</td>\n",
              "      <td>FIFA World Cup qualification</td>\n",
              "      <td>La Paz</td>\n",
              "      <td>Bolivia</td>\n",
              "      <td>False</td>\n",
              "      <td>4</td>\n",
              "      <td>Sweden</td>\n",
              "      <td>SWE</td>\n",
              "      <td>0.0</td>\n",
              "      <td>55</td>\n",
              "      <td>0</td>\n",
              "      <td>0.0</td>\n",
              "      <td>0.0</td>\n",
              "      <td>0.0</td>\n",
              "      <td>0.0</td>\n",
              "      <td>0.0</td>\n",
              "      <td>0.0</td>\n",
              "      <td>0.0</td>\n",
              "      <td>0.0</td>\n",
              "      <td>UEFA</td>\n",
              "      <td>2</td>\n",
              "    </tr>\n",
              "    <tr>\n",
              "      <th>4</th>\n",
              "      <td>1993-08-08</td>\n",
              "      <td>Bolivia</td>\n",
              "      <td>Uruguay</td>\n",
              "      <td>3</td>\n",
              "      <td>1</td>\n",
              "      <td>FIFA World Cup qualification</td>\n",
              "      <td>La Paz</td>\n",
              "      <td>Bolivia</td>\n",
              "      <td>False</td>\n",
              "      <td>5</td>\n",
              "      <td>Argentina</td>\n",
              "      <td>ARG</td>\n",
              "      <td>0.0</td>\n",
              "      <td>51</td>\n",
              "      <td>5</td>\n",
              "      <td>0.0</td>\n",
              "      <td>0.0</td>\n",
              "      <td>0.0</td>\n",
              "      <td>0.0</td>\n",
              "      <td>0.0</td>\n",
              "      <td>0.0</td>\n",
              "      <td>0.0</td>\n",
              "      <td>0.0</td>\n",
              "      <td>CONMEBOL</td>\n",
              "      <td>2</td>\n",
              "    </tr>\n",
              "  </tbody>\n",
              "</table>\n",
              "</div>"
            ],
            "text/plain": [
              "         date home_team  ... confederation  results\n",
              "0  1993-08-08   Bolivia  ...          UEFA        2\n",
              "1  1993-08-08   Bolivia  ...          UEFA        2\n",
              "2  1993-08-08   Bolivia  ...          UEFA        2\n",
              "3  1993-08-08   Bolivia  ...          UEFA        2\n",
              "4  1993-08-08   Bolivia  ...      CONMEBOL        2\n",
              "\n",
              "[5 rows x 25 columns]"
            ]
          },
          "metadata": {
            "tags": []
          },
          "execution_count": 18
        }
      ]
    },
    {
      "cell_type": "code",
      "metadata": {
        "id": "s29huzvY-OtB",
        "colab_type": "code",
        "colab": {}
      },
      "source": [
        "#creating a function for the win ,loss and draw\n",
        "def results(x):\n",
        " if x > 0:\n",
        "   return 'win'\n",
        " elif x < 0:\n",
        "   return 'loss'\n",
        " else:\n",
        "   return 'draw'\n",
        "#Implementing and applying our function\n",
        "df_merge['results']=df_merge.results.apply(lambda x: results(x))"
      ],
      "execution_count": 0,
      "outputs": []
    },
    {
      "cell_type": "code",
      "metadata": {
        "id": "kbvV8gRFA5Wn",
        "colab_type": "code",
        "outputId": "42414740-80b3-4a04-ce42-d34f95f6eee8",
        "colab": {
          "base_uri": "https://localhost:8080/",
          "height": 394
        }
      },
      "source": [
        "#checking if the results column has been iterated\n",
        "df_merge.head()"
      ],
      "execution_count": 20,
      "outputs": [
        {
          "output_type": "execute_result",
          "data": {
            "text/html": [
              "<div>\n",
              "<style scoped>\n",
              "    .dataframe tbody tr th:only-of-type {\n",
              "        vertical-align: middle;\n",
              "    }\n",
              "\n",
              "    .dataframe tbody tr th {\n",
              "        vertical-align: top;\n",
              "    }\n",
              "\n",
              "    .dataframe thead th {\n",
              "        text-align: right;\n",
              "    }\n",
              "</style>\n",
              "<table border=\"1\" class=\"dataframe\">\n",
              "  <thead>\n",
              "    <tr style=\"text-align: right;\">\n",
              "      <th></th>\n",
              "      <th>date</th>\n",
              "      <th>home_team</th>\n",
              "      <th>away_team</th>\n",
              "      <th>home_score</th>\n",
              "      <th>away_score</th>\n",
              "      <th>tournament</th>\n",
              "      <th>city</th>\n",
              "      <th>country</th>\n",
              "      <th>neutral</th>\n",
              "      <th>rank</th>\n",
              "      <th>country_full</th>\n",
              "      <th>country_abrv</th>\n",
              "      <th>total_points</th>\n",
              "      <th>previous_points</th>\n",
              "      <th>rank_change</th>\n",
              "      <th>cur_year_avg</th>\n",
              "      <th>cur_year_avg_weighted</th>\n",
              "      <th>last_year_avg</th>\n",
              "      <th>last_year_avg_weighted</th>\n",
              "      <th>two_year_ago_avg</th>\n",
              "      <th>two_year_ago_weighted</th>\n",
              "      <th>three_year_ago_avg</th>\n",
              "      <th>three_year_ago_weighted</th>\n",
              "      <th>confederation</th>\n",
              "      <th>results</th>\n",
              "    </tr>\n",
              "  </thead>\n",
              "  <tbody>\n",
              "    <tr>\n",
              "      <th>0</th>\n",
              "      <td>1993-08-08</td>\n",
              "      <td>Bolivia</td>\n",
              "      <td>Uruguay</td>\n",
              "      <td>3</td>\n",
              "      <td>1</td>\n",
              "      <td>FIFA World Cup qualification</td>\n",
              "      <td>La Paz</td>\n",
              "      <td>Bolivia</td>\n",
              "      <td>False</td>\n",
              "      <td>1</td>\n",
              "      <td>Germany</td>\n",
              "      <td>GER</td>\n",
              "      <td>0.0</td>\n",
              "      <td>57</td>\n",
              "      <td>0</td>\n",
              "      <td>0.0</td>\n",
              "      <td>0.0</td>\n",
              "      <td>0.0</td>\n",
              "      <td>0.0</td>\n",
              "      <td>0.0</td>\n",
              "      <td>0.0</td>\n",
              "      <td>0.0</td>\n",
              "      <td>0.0</td>\n",
              "      <td>UEFA</td>\n",
              "      <td>win</td>\n",
              "    </tr>\n",
              "    <tr>\n",
              "      <th>1</th>\n",
              "      <td>1993-08-08</td>\n",
              "      <td>Bolivia</td>\n",
              "      <td>Uruguay</td>\n",
              "      <td>3</td>\n",
              "      <td>1</td>\n",
              "      <td>FIFA World Cup qualification</td>\n",
              "      <td>La Paz</td>\n",
              "      <td>Bolivia</td>\n",
              "      <td>False</td>\n",
              "      <td>2</td>\n",
              "      <td>Italy</td>\n",
              "      <td>ITA</td>\n",
              "      <td>0.0</td>\n",
              "      <td>57</td>\n",
              "      <td>0</td>\n",
              "      <td>0.0</td>\n",
              "      <td>0.0</td>\n",
              "      <td>0.0</td>\n",
              "      <td>0.0</td>\n",
              "      <td>0.0</td>\n",
              "      <td>0.0</td>\n",
              "      <td>0.0</td>\n",
              "      <td>0.0</td>\n",
              "      <td>UEFA</td>\n",
              "      <td>win</td>\n",
              "    </tr>\n",
              "    <tr>\n",
              "      <th>2</th>\n",
              "      <td>1993-08-08</td>\n",
              "      <td>Bolivia</td>\n",
              "      <td>Uruguay</td>\n",
              "      <td>3</td>\n",
              "      <td>1</td>\n",
              "      <td>FIFA World Cup qualification</td>\n",
              "      <td>La Paz</td>\n",
              "      <td>Bolivia</td>\n",
              "      <td>False</td>\n",
              "      <td>3</td>\n",
              "      <td>Switzerland</td>\n",
              "      <td>SUI</td>\n",
              "      <td>0.0</td>\n",
              "      <td>50</td>\n",
              "      <td>9</td>\n",
              "      <td>0.0</td>\n",
              "      <td>0.0</td>\n",
              "      <td>0.0</td>\n",
              "      <td>0.0</td>\n",
              "      <td>0.0</td>\n",
              "      <td>0.0</td>\n",
              "      <td>0.0</td>\n",
              "      <td>0.0</td>\n",
              "      <td>UEFA</td>\n",
              "      <td>win</td>\n",
              "    </tr>\n",
              "    <tr>\n",
              "      <th>3</th>\n",
              "      <td>1993-08-08</td>\n",
              "      <td>Bolivia</td>\n",
              "      <td>Uruguay</td>\n",
              "      <td>3</td>\n",
              "      <td>1</td>\n",
              "      <td>FIFA World Cup qualification</td>\n",
              "      <td>La Paz</td>\n",
              "      <td>Bolivia</td>\n",
              "      <td>False</td>\n",
              "      <td>4</td>\n",
              "      <td>Sweden</td>\n",
              "      <td>SWE</td>\n",
              "      <td>0.0</td>\n",
              "      <td>55</td>\n",
              "      <td>0</td>\n",
              "      <td>0.0</td>\n",
              "      <td>0.0</td>\n",
              "      <td>0.0</td>\n",
              "      <td>0.0</td>\n",
              "      <td>0.0</td>\n",
              "      <td>0.0</td>\n",
              "      <td>0.0</td>\n",
              "      <td>0.0</td>\n",
              "      <td>UEFA</td>\n",
              "      <td>win</td>\n",
              "    </tr>\n",
              "    <tr>\n",
              "      <th>4</th>\n",
              "      <td>1993-08-08</td>\n",
              "      <td>Bolivia</td>\n",
              "      <td>Uruguay</td>\n",
              "      <td>3</td>\n",
              "      <td>1</td>\n",
              "      <td>FIFA World Cup qualification</td>\n",
              "      <td>La Paz</td>\n",
              "      <td>Bolivia</td>\n",
              "      <td>False</td>\n",
              "      <td>5</td>\n",
              "      <td>Argentina</td>\n",
              "      <td>ARG</td>\n",
              "      <td>0.0</td>\n",
              "      <td>51</td>\n",
              "      <td>5</td>\n",
              "      <td>0.0</td>\n",
              "      <td>0.0</td>\n",
              "      <td>0.0</td>\n",
              "      <td>0.0</td>\n",
              "      <td>0.0</td>\n",
              "      <td>0.0</td>\n",
              "      <td>0.0</td>\n",
              "      <td>0.0</td>\n",
              "      <td>CONMEBOL</td>\n",
              "      <td>win</td>\n",
              "    </tr>\n",
              "  </tbody>\n",
              "</table>\n",
              "</div>"
            ],
            "text/plain": [
              "         date home_team  ... confederation  results\n",
              "0  1993-08-08   Bolivia  ...          UEFA      win\n",
              "1  1993-08-08   Bolivia  ...          UEFA      win\n",
              "2  1993-08-08   Bolivia  ...          UEFA      win\n",
              "3  1993-08-08   Bolivia  ...          UEFA      win\n",
              "4  1993-08-08   Bolivia  ...      CONMEBOL      win\n",
              "\n",
              "[5 rows x 25 columns]"
            ]
          },
          "metadata": {
            "tags": []
          },
          "execution_count": 20
        }
      ]
    },
    {
      "cell_type": "code",
      "metadata": {
        "id": "19lJgNciBELG",
        "colab_type": "code",
        "colab": {}
      },
      "source": [
        "#we wish to change the results column as well as neutral to numerical values for modelling.\n",
        "# Create a label (category) encoder object\n",
        "from sklearn import preprocessing\n",
        "le = preprocessing.LabelEncoder()\n"
      ],
      "execution_count": 0,
      "outputs": []
    },
    {
      "cell_type": "code",
      "metadata": {
        "id": "D46BbHwTB20Z",
        "colab_type": "code",
        "outputId": "4ea602e1-258d-4735-c2e2-47b3a339ea4c",
        "colab": {
          "base_uri": "https://localhost:8080/",
          "height": 34
        }
      },
      "source": [
        "# Fit the encoder to the pandas column\n",
        "le.fit(df_merge['results'])"
      ],
      "execution_count": 22,
      "outputs": [
        {
          "output_type": "execute_result",
          "data": {
            "text/plain": [
              "LabelEncoder()"
            ]
          },
          "metadata": {
            "tags": []
          },
          "execution_count": 22
        }
      ]
    },
    {
      "cell_type": "code",
      "metadata": {
        "id": "ox5AGjVcCqPA",
        "colab_type": "code",
        "colab": {}
      },
      "source": [
        "df_merge['result_num'] = le.transform(df_merge['results'])"
      ],
      "execution_count": 0,
      "outputs": []
    },
    {
      "cell_type": "code",
      "metadata": {
        "id": "rjkULWYzC6Ym",
        "colab_type": "code",
        "outputId": "198bb43a-210a-4f8f-ff88-c49e6070d6b1",
        "colab": {
          "base_uri": "https://localhost:8080/",
          "height": 394
        }
      },
      "source": [
        "df_merge.head()"
      ],
      "execution_count": 24,
      "outputs": [
        {
          "output_type": "execute_result",
          "data": {
            "text/html": [
              "<div>\n",
              "<style scoped>\n",
              "    .dataframe tbody tr th:only-of-type {\n",
              "        vertical-align: middle;\n",
              "    }\n",
              "\n",
              "    .dataframe tbody tr th {\n",
              "        vertical-align: top;\n",
              "    }\n",
              "\n",
              "    .dataframe thead th {\n",
              "        text-align: right;\n",
              "    }\n",
              "</style>\n",
              "<table border=\"1\" class=\"dataframe\">\n",
              "  <thead>\n",
              "    <tr style=\"text-align: right;\">\n",
              "      <th></th>\n",
              "      <th>date</th>\n",
              "      <th>home_team</th>\n",
              "      <th>away_team</th>\n",
              "      <th>home_score</th>\n",
              "      <th>away_score</th>\n",
              "      <th>tournament</th>\n",
              "      <th>city</th>\n",
              "      <th>country</th>\n",
              "      <th>neutral</th>\n",
              "      <th>rank</th>\n",
              "      <th>country_full</th>\n",
              "      <th>country_abrv</th>\n",
              "      <th>total_points</th>\n",
              "      <th>previous_points</th>\n",
              "      <th>rank_change</th>\n",
              "      <th>cur_year_avg</th>\n",
              "      <th>cur_year_avg_weighted</th>\n",
              "      <th>last_year_avg</th>\n",
              "      <th>last_year_avg_weighted</th>\n",
              "      <th>two_year_ago_avg</th>\n",
              "      <th>two_year_ago_weighted</th>\n",
              "      <th>three_year_ago_avg</th>\n",
              "      <th>three_year_ago_weighted</th>\n",
              "      <th>confederation</th>\n",
              "      <th>results</th>\n",
              "      <th>result_num</th>\n",
              "    </tr>\n",
              "  </thead>\n",
              "  <tbody>\n",
              "    <tr>\n",
              "      <th>0</th>\n",
              "      <td>1993-08-08</td>\n",
              "      <td>Bolivia</td>\n",
              "      <td>Uruguay</td>\n",
              "      <td>3</td>\n",
              "      <td>1</td>\n",
              "      <td>FIFA World Cup qualification</td>\n",
              "      <td>La Paz</td>\n",
              "      <td>Bolivia</td>\n",
              "      <td>False</td>\n",
              "      <td>1</td>\n",
              "      <td>Germany</td>\n",
              "      <td>GER</td>\n",
              "      <td>0.0</td>\n",
              "      <td>57</td>\n",
              "      <td>0</td>\n",
              "      <td>0.0</td>\n",
              "      <td>0.0</td>\n",
              "      <td>0.0</td>\n",
              "      <td>0.0</td>\n",
              "      <td>0.0</td>\n",
              "      <td>0.0</td>\n",
              "      <td>0.0</td>\n",
              "      <td>0.0</td>\n",
              "      <td>UEFA</td>\n",
              "      <td>win</td>\n",
              "      <td>2</td>\n",
              "    </tr>\n",
              "    <tr>\n",
              "      <th>1</th>\n",
              "      <td>1993-08-08</td>\n",
              "      <td>Bolivia</td>\n",
              "      <td>Uruguay</td>\n",
              "      <td>3</td>\n",
              "      <td>1</td>\n",
              "      <td>FIFA World Cup qualification</td>\n",
              "      <td>La Paz</td>\n",
              "      <td>Bolivia</td>\n",
              "      <td>False</td>\n",
              "      <td>2</td>\n",
              "      <td>Italy</td>\n",
              "      <td>ITA</td>\n",
              "      <td>0.0</td>\n",
              "      <td>57</td>\n",
              "      <td>0</td>\n",
              "      <td>0.0</td>\n",
              "      <td>0.0</td>\n",
              "      <td>0.0</td>\n",
              "      <td>0.0</td>\n",
              "      <td>0.0</td>\n",
              "      <td>0.0</td>\n",
              "      <td>0.0</td>\n",
              "      <td>0.0</td>\n",
              "      <td>UEFA</td>\n",
              "      <td>win</td>\n",
              "      <td>2</td>\n",
              "    </tr>\n",
              "    <tr>\n",
              "      <th>2</th>\n",
              "      <td>1993-08-08</td>\n",
              "      <td>Bolivia</td>\n",
              "      <td>Uruguay</td>\n",
              "      <td>3</td>\n",
              "      <td>1</td>\n",
              "      <td>FIFA World Cup qualification</td>\n",
              "      <td>La Paz</td>\n",
              "      <td>Bolivia</td>\n",
              "      <td>False</td>\n",
              "      <td>3</td>\n",
              "      <td>Switzerland</td>\n",
              "      <td>SUI</td>\n",
              "      <td>0.0</td>\n",
              "      <td>50</td>\n",
              "      <td>9</td>\n",
              "      <td>0.0</td>\n",
              "      <td>0.0</td>\n",
              "      <td>0.0</td>\n",
              "      <td>0.0</td>\n",
              "      <td>0.0</td>\n",
              "      <td>0.0</td>\n",
              "      <td>0.0</td>\n",
              "      <td>0.0</td>\n",
              "      <td>UEFA</td>\n",
              "      <td>win</td>\n",
              "      <td>2</td>\n",
              "    </tr>\n",
              "    <tr>\n",
              "      <th>3</th>\n",
              "      <td>1993-08-08</td>\n",
              "      <td>Bolivia</td>\n",
              "      <td>Uruguay</td>\n",
              "      <td>3</td>\n",
              "      <td>1</td>\n",
              "      <td>FIFA World Cup qualification</td>\n",
              "      <td>La Paz</td>\n",
              "      <td>Bolivia</td>\n",
              "      <td>False</td>\n",
              "      <td>4</td>\n",
              "      <td>Sweden</td>\n",
              "      <td>SWE</td>\n",
              "      <td>0.0</td>\n",
              "      <td>55</td>\n",
              "      <td>0</td>\n",
              "      <td>0.0</td>\n",
              "      <td>0.0</td>\n",
              "      <td>0.0</td>\n",
              "      <td>0.0</td>\n",
              "      <td>0.0</td>\n",
              "      <td>0.0</td>\n",
              "      <td>0.0</td>\n",
              "      <td>0.0</td>\n",
              "      <td>UEFA</td>\n",
              "      <td>win</td>\n",
              "      <td>2</td>\n",
              "    </tr>\n",
              "    <tr>\n",
              "      <th>4</th>\n",
              "      <td>1993-08-08</td>\n",
              "      <td>Bolivia</td>\n",
              "      <td>Uruguay</td>\n",
              "      <td>3</td>\n",
              "      <td>1</td>\n",
              "      <td>FIFA World Cup qualification</td>\n",
              "      <td>La Paz</td>\n",
              "      <td>Bolivia</td>\n",
              "      <td>False</td>\n",
              "      <td>5</td>\n",
              "      <td>Argentina</td>\n",
              "      <td>ARG</td>\n",
              "      <td>0.0</td>\n",
              "      <td>51</td>\n",
              "      <td>5</td>\n",
              "      <td>0.0</td>\n",
              "      <td>0.0</td>\n",
              "      <td>0.0</td>\n",
              "      <td>0.0</td>\n",
              "      <td>0.0</td>\n",
              "      <td>0.0</td>\n",
              "      <td>0.0</td>\n",
              "      <td>0.0</td>\n",
              "      <td>CONMEBOL</td>\n",
              "      <td>win</td>\n",
              "      <td>2</td>\n",
              "    </tr>\n",
              "  </tbody>\n",
              "</table>\n",
              "</div>"
            ],
            "text/plain": [
              "         date home_team away_team  ...  confederation  results result_num\n",
              "0  1993-08-08   Bolivia   Uruguay  ...           UEFA      win          2\n",
              "1  1993-08-08   Bolivia   Uruguay  ...           UEFA      win          2\n",
              "2  1993-08-08   Bolivia   Uruguay  ...           UEFA      win          2\n",
              "3  1993-08-08   Bolivia   Uruguay  ...           UEFA      win          2\n",
              "4  1993-08-08   Bolivia   Uruguay  ...       CONMEBOL      win          2\n",
              "\n",
              "[5 rows x 26 columns]"
            ]
          },
          "metadata": {
            "tags": []
          },
          "execution_count": 24
        }
      ]
    },
    {
      "cell_type": "code",
      "metadata": {
        "id": "QGUPdu3bDhAg",
        "colab_type": "code",
        "outputId": "710b0247-b3e5-44e3-ce72-0a150fac43a3",
        "colab": {
          "base_uri": "https://localhost:8080/",
          "height": 394
        }
      },
      "source": [
        "#changing our neutral column to numerical as well\n",
        "from sklearn import preprocessing\n",
        "le = preprocessing.LabelEncoder()\n",
        "#fitting the encoder\n",
        "le.fit(df_merge['neutral'])\n",
        "#transforming to numerical\n",
        "df_merge['neutral_num'] = le.transform(df_merge['neutral'])\n",
        "df_merge.head()"
      ],
      "execution_count": 25,
      "outputs": [
        {
          "output_type": "execute_result",
          "data": {
            "text/html": [
              "<div>\n",
              "<style scoped>\n",
              "    .dataframe tbody tr th:only-of-type {\n",
              "        vertical-align: middle;\n",
              "    }\n",
              "\n",
              "    .dataframe tbody tr th {\n",
              "        vertical-align: top;\n",
              "    }\n",
              "\n",
              "    .dataframe thead th {\n",
              "        text-align: right;\n",
              "    }\n",
              "</style>\n",
              "<table border=\"1\" class=\"dataframe\">\n",
              "  <thead>\n",
              "    <tr style=\"text-align: right;\">\n",
              "      <th></th>\n",
              "      <th>date</th>\n",
              "      <th>home_team</th>\n",
              "      <th>away_team</th>\n",
              "      <th>home_score</th>\n",
              "      <th>away_score</th>\n",
              "      <th>tournament</th>\n",
              "      <th>city</th>\n",
              "      <th>country</th>\n",
              "      <th>neutral</th>\n",
              "      <th>rank</th>\n",
              "      <th>country_full</th>\n",
              "      <th>country_abrv</th>\n",
              "      <th>total_points</th>\n",
              "      <th>previous_points</th>\n",
              "      <th>rank_change</th>\n",
              "      <th>cur_year_avg</th>\n",
              "      <th>cur_year_avg_weighted</th>\n",
              "      <th>last_year_avg</th>\n",
              "      <th>last_year_avg_weighted</th>\n",
              "      <th>two_year_ago_avg</th>\n",
              "      <th>two_year_ago_weighted</th>\n",
              "      <th>three_year_ago_avg</th>\n",
              "      <th>three_year_ago_weighted</th>\n",
              "      <th>confederation</th>\n",
              "      <th>results</th>\n",
              "      <th>result_num</th>\n",
              "      <th>neutral_num</th>\n",
              "    </tr>\n",
              "  </thead>\n",
              "  <tbody>\n",
              "    <tr>\n",
              "      <th>0</th>\n",
              "      <td>1993-08-08</td>\n",
              "      <td>Bolivia</td>\n",
              "      <td>Uruguay</td>\n",
              "      <td>3</td>\n",
              "      <td>1</td>\n",
              "      <td>FIFA World Cup qualification</td>\n",
              "      <td>La Paz</td>\n",
              "      <td>Bolivia</td>\n",
              "      <td>False</td>\n",
              "      <td>1</td>\n",
              "      <td>Germany</td>\n",
              "      <td>GER</td>\n",
              "      <td>0.0</td>\n",
              "      <td>57</td>\n",
              "      <td>0</td>\n",
              "      <td>0.0</td>\n",
              "      <td>0.0</td>\n",
              "      <td>0.0</td>\n",
              "      <td>0.0</td>\n",
              "      <td>0.0</td>\n",
              "      <td>0.0</td>\n",
              "      <td>0.0</td>\n",
              "      <td>0.0</td>\n",
              "      <td>UEFA</td>\n",
              "      <td>win</td>\n",
              "      <td>2</td>\n",
              "      <td>0</td>\n",
              "    </tr>\n",
              "    <tr>\n",
              "      <th>1</th>\n",
              "      <td>1993-08-08</td>\n",
              "      <td>Bolivia</td>\n",
              "      <td>Uruguay</td>\n",
              "      <td>3</td>\n",
              "      <td>1</td>\n",
              "      <td>FIFA World Cup qualification</td>\n",
              "      <td>La Paz</td>\n",
              "      <td>Bolivia</td>\n",
              "      <td>False</td>\n",
              "      <td>2</td>\n",
              "      <td>Italy</td>\n",
              "      <td>ITA</td>\n",
              "      <td>0.0</td>\n",
              "      <td>57</td>\n",
              "      <td>0</td>\n",
              "      <td>0.0</td>\n",
              "      <td>0.0</td>\n",
              "      <td>0.0</td>\n",
              "      <td>0.0</td>\n",
              "      <td>0.0</td>\n",
              "      <td>0.0</td>\n",
              "      <td>0.0</td>\n",
              "      <td>0.0</td>\n",
              "      <td>UEFA</td>\n",
              "      <td>win</td>\n",
              "      <td>2</td>\n",
              "      <td>0</td>\n",
              "    </tr>\n",
              "    <tr>\n",
              "      <th>2</th>\n",
              "      <td>1993-08-08</td>\n",
              "      <td>Bolivia</td>\n",
              "      <td>Uruguay</td>\n",
              "      <td>3</td>\n",
              "      <td>1</td>\n",
              "      <td>FIFA World Cup qualification</td>\n",
              "      <td>La Paz</td>\n",
              "      <td>Bolivia</td>\n",
              "      <td>False</td>\n",
              "      <td>3</td>\n",
              "      <td>Switzerland</td>\n",
              "      <td>SUI</td>\n",
              "      <td>0.0</td>\n",
              "      <td>50</td>\n",
              "      <td>9</td>\n",
              "      <td>0.0</td>\n",
              "      <td>0.0</td>\n",
              "      <td>0.0</td>\n",
              "      <td>0.0</td>\n",
              "      <td>0.0</td>\n",
              "      <td>0.0</td>\n",
              "      <td>0.0</td>\n",
              "      <td>0.0</td>\n",
              "      <td>UEFA</td>\n",
              "      <td>win</td>\n",
              "      <td>2</td>\n",
              "      <td>0</td>\n",
              "    </tr>\n",
              "    <tr>\n",
              "      <th>3</th>\n",
              "      <td>1993-08-08</td>\n",
              "      <td>Bolivia</td>\n",
              "      <td>Uruguay</td>\n",
              "      <td>3</td>\n",
              "      <td>1</td>\n",
              "      <td>FIFA World Cup qualification</td>\n",
              "      <td>La Paz</td>\n",
              "      <td>Bolivia</td>\n",
              "      <td>False</td>\n",
              "      <td>4</td>\n",
              "      <td>Sweden</td>\n",
              "      <td>SWE</td>\n",
              "      <td>0.0</td>\n",
              "      <td>55</td>\n",
              "      <td>0</td>\n",
              "      <td>0.0</td>\n",
              "      <td>0.0</td>\n",
              "      <td>0.0</td>\n",
              "      <td>0.0</td>\n",
              "      <td>0.0</td>\n",
              "      <td>0.0</td>\n",
              "      <td>0.0</td>\n",
              "      <td>0.0</td>\n",
              "      <td>UEFA</td>\n",
              "      <td>win</td>\n",
              "      <td>2</td>\n",
              "      <td>0</td>\n",
              "    </tr>\n",
              "    <tr>\n",
              "      <th>4</th>\n",
              "      <td>1993-08-08</td>\n",
              "      <td>Bolivia</td>\n",
              "      <td>Uruguay</td>\n",
              "      <td>3</td>\n",
              "      <td>1</td>\n",
              "      <td>FIFA World Cup qualification</td>\n",
              "      <td>La Paz</td>\n",
              "      <td>Bolivia</td>\n",
              "      <td>False</td>\n",
              "      <td>5</td>\n",
              "      <td>Argentina</td>\n",
              "      <td>ARG</td>\n",
              "      <td>0.0</td>\n",
              "      <td>51</td>\n",
              "      <td>5</td>\n",
              "      <td>0.0</td>\n",
              "      <td>0.0</td>\n",
              "      <td>0.0</td>\n",
              "      <td>0.0</td>\n",
              "      <td>0.0</td>\n",
              "      <td>0.0</td>\n",
              "      <td>0.0</td>\n",
              "      <td>0.0</td>\n",
              "      <td>CONMEBOL</td>\n",
              "      <td>win</td>\n",
              "      <td>2</td>\n",
              "      <td>0</td>\n",
              "    </tr>\n",
              "  </tbody>\n",
              "</table>\n",
              "</div>"
            ],
            "text/plain": [
              "         date home_team away_team  ...  results  result_num neutral_num\n",
              "0  1993-08-08   Bolivia   Uruguay  ...      win           2           0\n",
              "1  1993-08-08   Bolivia   Uruguay  ...      win           2           0\n",
              "2  1993-08-08   Bolivia   Uruguay  ...      win           2           0\n",
              "3  1993-08-08   Bolivia   Uruguay  ...      win           2           0\n",
              "4  1993-08-08   Bolivia   Uruguay  ...      win           2           0\n",
              "\n",
              "[5 rows x 27 columns]"
            ]
          },
          "metadata": {
            "tags": []
          },
          "execution_count": 25
        }
      ]
    },
    {
      "cell_type": "markdown",
      "metadata": {
        "id": "6Hxmyd_mVl5v",
        "colab_type": "text"
      },
      "source": [
        "*Distribution of the home scores and away scores*"
      ]
    },
    {
      "cell_type": "code",
      "metadata": {
        "id": "fpDLwmFiVzD1",
        "colab_type": "code",
        "colab": {
          "base_uri": "https://localhost:8080/",
          "height": 508
        },
        "outputId": "c4cd1be8-d63c-47c5-84e5-33ec8e2abdbc"
      },
      "source": [
        "#the home score\n",
        "plt.figure(figsize = (10,8)) \n",
        "plt.tight_layout\n",
        "sns.distplot(df_merge['home_score'], color = 'r') # plotting\n",
        "plt.show() # displaying\n"
      ],
      "execution_count": 95,
      "outputs": [
        {
          "output_type": "display_data",
          "data": {
            "image/png": "[encoded data removed]",
            "text/plain": [
              "<Figure size 720x576 with 1 Axes>"
            ]
          },
          "metadata": {
            "tags": []
          }
        }
      ]
    },
    {
      "cell_type": "code",
      "metadata": {
        "id": "sMIb6GmgWPHh",
        "colab_type": "code",
        "colab": {
          "base_uri": "https://localhost:8080/",
          "height": 508
        },
        "outputId": "28f0e36b-48c7-437c-b863-035b6f7472c5"
      },
      "source": [
        "#the away score\n",
        "plt.figure(figsize = (10,8)) \n",
        "plt.tight_layout\n",
        "sns.distplot(df_merge['away_score'], color = 'r') # plotting\n",
        "plt.show() # displaying"
      ],
      "execution_count": 96,
      "outputs": [
        {
          "output_type": "display_data",
          "data": {
            "image/png": "[encoded data removed]",
            "text/plain": [
              "<Figure size 720x576 with 1 Axes>"
            ]
          },
          "metadata": {
            "tags": []
          }
        }
      ]
    },
    {
      "cell_type": "markdown",
      "metadata": {
        "id": "GYvzMSE1CyJP",
        "colab_type": "text"
      },
      "source": [
        "# REGRESSION"
      ]
    },
    {
      "cell_type": "code",
      "metadata": {
        "id": "K2XxlF2rCxXs",
        "colab_type": "code",
        "colab": {}
      },
      "source": [
        "#our first regression\n",
        "#defining our dependent variables and our independent variables.\n",
        "#this concerns a prediction result between team 1 and team 2.\n",
        "y = df_merge[['home_score']]\n",
        "x = df_merge[['rank','result_num','neutral_num']]\n"
      ],
      "execution_count": 0,
      "outputs": []
    },
    {
      "cell_type": "markdown",
      "metadata": {
        "id": "P6H_JhCWOda8",
        "colab_type": "text"
      },
      "source": [
        "**Visualization**"
      ]
    },
    {
      "cell_type": "code",
      "metadata": {
        "id": "Qh39sBLQOc5j",
        "colab_type": "code",
        "outputId": "96c9031a-9244-4476-c4fe-5b16119c5312",
        "colab": {
          "base_uri": "https://localhost:8080/",
          "height": 313
        }
      },
      "source": [
        "df_merge.plot(x = 'rank',y ='home_score',style = '.')\n",
        "plt.xlabel('rank')\n",
        "plt.xticks(rotation = 45)\n",
        "plt.ylabel('homescore')\n",
        "plt.title('rank vs homescore')\n",
        "plt.show()"
      ],
      "execution_count": 98,
      "outputs": [
        {
          "output_type": "display_data",
          "data": {
            "image/png": "[encoded data removed]",
            "text/plain": [
              "<Figure size 432x288 with 1 Axes>"
            ]
          },
          "metadata": {
            "tags": []
          }
        }
      ]
    },
    {
      "cell_type": "code",
      "metadata": {
        "id": "t24tzpp0Qf_I",
        "colab_type": "code",
        "outputId": "bb038369-8571-4df3-a882-df4acb58d533",
        "colab": {
          "base_uri": "https://localhost:8080/",
          "height": 425
        }
      },
      "source": [
        "df_merge.plot(x = 'away_team', y = 'away_score',style = '.')\n",
        "plt.xlabel('awayteam')\n",
        "plt.xticks(rotation=90)\n",
        "plt.ylabel('awayscore')\n",
        "plt.title('awayteam vs awayscore')\n",
        "plt.show()\n"
      ],
      "execution_count": 99,
      "outputs": [
        {
          "output_type": "display_data",
          "data": {
            "image/png": "[encoded data removed]",
            "text/plain": [
              "<Figure size 432x288 with 1 Axes>"
            ]
          },
          "metadata": {
            "tags": []
          }
        }
      ]
    },
    {
      "cell_type": "code",
      "metadata": {
        "id": "uNpa3Bgh2T2j",
        "colab_type": "code",
        "outputId": "f4594d32-bc67-48f0-d93a-35d41441fdac",
        "colab": {
          "base_uri": "https://localhost:8080/",
          "height": 312
        }
      },
      "source": [
        "df_merge.plot(x = 'rank', y = 'away_score',style = '.')\n",
        "plt.xlabel('rank')\n",
        "plt.xticks(rotation=90)\n",
        "plt.ylabel('awayscore')\n",
        "plt.title('rank vs awayscore')\n",
        "plt.show()\n"
      ],
      "execution_count": 100,
      "outputs": [
        {
          "output_type": "display_data",
          "data": {
            "image/png": "[encoded data removed]",
            "text/plain": [
              "<Figure size 432x288 with 1 Axes>"
            ]
          },
          "metadata": {
            "tags": []
          }
        }
      ]
    },
    {
      "cell_type": "code",
      "metadata": {
        "id": "USvzHZOF2oau",
        "colab_type": "code",
        "outputId": "5ab39dc3-52ac-4368-bb7c-2b5b2117e8e7",
        "colab": {
          "base_uri": "https://localhost:8080/",
          "height": 308
        }
      },
      "source": [
        "df_merge.plot(x = 'neutral_num', y = 'home_score',style = 'd')\n",
        "plt.xlabel('neutral')\n",
        "plt.xticks(rotation=90)\n",
        "plt.ylabel('awayscore')\n",
        "plt.title('neutral vs homescore')\n",
        "plt.show()"
      ],
      "execution_count": 30,
      "outputs": [
        {
          "output_type": "display_data",
          "data": {
            "image/png": "[encoded data removed]",
            "text/plain": [
              "<Figure size 432x288 with 1 Axes>"
            ]
          },
          "metadata": {
            "tags": []
          }
        }
      ]
    },
    {
      "cell_type": "code",
      "metadata": {
        "id": "-rHrvqAtGloT",
        "colab_type": "code",
        "outputId": "7b0787d3-e7c1-4069-80a8-fab7df9b1395",
        "colab": {
          "base_uri": "https://localhost:8080/",
          "height": 308
        }
      },
      "source": [
        "df_merge.plot(x = 'neutral_num', y = 'away_score',style = 'd')\n",
        "plt.xlabel('neutral')\n",
        "plt.xticks(rotation=90)\n",
        "plt.ylabel('awayscore')\n",
        "plt.title('neutral vs awayscore')\n",
        "plt.show()"
      ],
      "execution_count": 31,
      "outputs": [
        {
          "output_type": "display_data",
          "data": {
            "image/png": "[encoded data removed]",
            "text/plain": [
              "<Figure size 432x288 with 1 Axes>"
            ]
          },
          "metadata": {
            "tags": []
          }
        }
      ]
    },
    {
      "cell_type": "markdown",
      "metadata": {
        "id": "Dr-TZU6FDW9v",
        "colab_type": "text"
      },
      "source": [
        "**Linear regression**\n",
        "\n",
        "From the scatter plot, the data does not appear to be linear. So if were to fit a simple linear straight line, it would not cover most of the points. Which is why applying Linear regression on this dataset would not give us the correct value.\n",
        "\n",
        "The other alternative we are left with is applying polynomial regression."
      ]
    },
    {
      "cell_type": "code",
      "metadata": {
        "id": "VHzVLS2lCVM2",
        "colab_type": "code",
        "colab": {}
      },
      "source": [
        "#for predicting a response using a single feature. \n",
        "#It is assumed that the two variables are linearly related.\n",
        "#hence we will not use linear regression since we are dealing with more than one dependent and independent variables."
      ],
      "execution_count": 0,
      "outputs": []
    },
    {
      "cell_type": "code",
      "metadata": {
        "id": "XoxpiEYf0Bbn",
        "colab_type": "code",
        "outputId": "1ba576da-f6ad-4a03-bf18-7dc39134d44f",
        "colab": {
          "base_uri": "https://localhost:8080/",
          "height": 34
        }
      },
      "source": [
        "#checking for any null values in our x\n",
        "x.isnull().any().sum()"
      ],
      "execution_count": 33,
      "outputs": [
        {
          "output_type": "execute_result",
          "data": {
            "text/plain": [
              "0"
            ]
          },
          "metadata": {
            "tags": []
          },
          "execution_count": 33
        }
      ]
    },
    {
      "cell_type": "code",
      "metadata": {
        "id": "Li1lz9Pe0fsb",
        "colab_type": "code",
        "outputId": "48c56c71-164d-4964-a8b0-969df329fefc",
        "colab": {
          "base_uri": "https://localhost:8080/",
          "height": 34
        }
      },
      "source": [
        "#checking for any null values in our y\n",
        "\n",
        "y.isnull().any().sum()"
      ],
      "execution_count": 34,
      "outputs": [
        {
          "output_type": "execute_result",
          "data": {
            "text/plain": [
              "0"
            ]
          },
          "metadata": {
            "tags": []
          },
          "execution_count": 34
        }
      ]
    },
    {
      "cell_type": "code",
      "metadata": {
        "id": "qos5h9Jyy9M7",
        "colab_type": "code",
        "outputId": "f72487d3-58fa-4928-b9a0-e67b5cdcbb8b",
        "colab": {
          "base_uri": "https://localhost:8080/",
          "height": 204
        }
      },
      "source": [
        "x.tail()"
      ],
      "execution_count": 35,
      "outputs": [
        {
          "output_type": "execute_result",
          "data": {
            "text/html": [
              "<div>\n",
              "<style scoped>\n",
              "    .dataframe tbody tr th:only-of-type {\n",
              "        vertical-align: middle;\n",
              "    }\n",
              "\n",
              "    .dataframe tbody tr th {\n",
              "        vertical-align: top;\n",
              "    }\n",
              "\n",
              "    .dataframe thead th {\n",
              "        text-align: right;\n",
              "    }\n",
              "</style>\n",
              "<table border=\"1\" class=\"dataframe\">\n",
              "  <thead>\n",
              "    <tr style=\"text-align: right;\">\n",
              "      <th></th>\n",
              "      <th>rank</th>\n",
              "      <th>result_num</th>\n",
              "      <th>neutral_num</th>\n",
              "    </tr>\n",
              "  </thead>\n",
              "  <tbody>\n",
              "    <tr>\n",
              "      <th>212826</th>\n",
              "      <td>206</td>\n",
              "      <td>2</td>\n",
              "      <td>1</td>\n",
              "    </tr>\n",
              "    <tr>\n",
              "      <th>212827</th>\n",
              "      <td>206</td>\n",
              "      <td>2</td>\n",
              "      <td>1</td>\n",
              "    </tr>\n",
              "    <tr>\n",
              "      <th>212828</th>\n",
              "      <td>206</td>\n",
              "      <td>2</td>\n",
              "      <td>1</td>\n",
              "    </tr>\n",
              "    <tr>\n",
              "      <th>212829</th>\n",
              "      <td>206</td>\n",
              "      <td>2</td>\n",
              "      <td>1</td>\n",
              "    </tr>\n",
              "    <tr>\n",
              "      <th>212830</th>\n",
              "      <td>206</td>\n",
              "      <td>2</td>\n",
              "      <td>1</td>\n",
              "    </tr>\n",
              "  </tbody>\n",
              "</table>\n",
              "</div>"
            ],
            "text/plain": [
              "        rank  result_num  neutral_num\n",
              "212826   206           2            1\n",
              "212827   206           2            1\n",
              "212828   206           2            1\n",
              "212829   206           2            1\n",
              "212830   206           2            1"
            ]
          },
          "metadata": {
            "tags": []
          },
          "execution_count": 35
        }
      ]
    },
    {
      "cell_type": "code",
      "metadata": {
        "id": "3H6gCnDLzCal",
        "colab_type": "code",
        "outputId": "fa99941d-3b96-473e-a287-6d822b198a69",
        "colab": {
          "base_uri": "https://localhost:8080/",
          "height": 204
        }
      },
      "source": [
        "y.tail()"
      ],
      "execution_count": 36,
      "outputs": [
        {
          "output_type": "execute_result",
          "data": {
            "text/html": [
              "<div>\n",
              "<style scoped>\n",
              "    .dataframe tbody tr th:only-of-type {\n",
              "        vertical-align: middle;\n",
              "    }\n",
              "\n",
              "    .dataframe tbody tr th {\n",
              "        vertical-align: top;\n",
              "    }\n",
              "\n",
              "    .dataframe thead th {\n",
              "        text-align: right;\n",
              "    }\n",
              "</style>\n",
              "<table border=\"1\" class=\"dataframe\">\n",
              "  <thead>\n",
              "    <tr style=\"text-align: right;\">\n",
              "      <th></th>\n",
              "      <th>home_score</th>\n",
              "    </tr>\n",
              "  </thead>\n",
              "  <tbody>\n",
              "    <tr>\n",
              "      <th>212826</th>\n",
              "      <td>4</td>\n",
              "    </tr>\n",
              "    <tr>\n",
              "      <th>212827</th>\n",
              "      <td>4</td>\n",
              "    </tr>\n",
              "    <tr>\n",
              "      <th>212828</th>\n",
              "      <td>4</td>\n",
              "    </tr>\n",
              "    <tr>\n",
              "      <th>212829</th>\n",
              "      <td>4</td>\n",
              "    </tr>\n",
              "    <tr>\n",
              "      <th>212830</th>\n",
              "      <td>4</td>\n",
              "    </tr>\n",
              "  </tbody>\n",
              "</table>\n",
              "</div>"
            ],
            "text/plain": [
              "        home_score\n",
              "212826           4\n",
              "212827           4\n",
              "212828           4\n",
              "212829           4\n",
              "212830           4"
            ]
          },
          "metadata": {
            "tags": []
          },
          "execution_count": 36
        }
      ]
    },
    {
      "cell_type": "code",
      "metadata": {
        "id": "sggyx8b3jEvQ",
        "colab_type": "code",
        "colab": {}
      },
      "source": [
        "#splitting the dataset into train and test set \n",
        "from sklearn.model_selection import train_test_split\n",
        "x_train, x_test, y_train,y_test = train_test_split(x,y, test_size = 0.2,random_state = 0)"
      ],
      "execution_count": 0,
      "outputs": []
    },
    {
      "cell_type": "code",
      "metadata": {
        "id": "cilVir4RbMei",
        "colab_type": "code",
        "outputId": "400d8b33-9bff-4db7-cedb-a49b8617b852",
        "colab": {
          "base_uri": "https://localhost:8080/",
          "height": 34
        }
      },
      "source": [
        "#fitting into a linear regression\n",
        "from sklearn.linear_model import LinearRegression\n",
        "reg_line = LinearRegression()\n",
        "reg_line.fit(x_train,y_train)"
      ],
      "execution_count": 38,
      "outputs": [
        {
          "output_type": "execute_result",
          "data": {
            "text/plain": [
              "LinearRegression(copy_X=True, fit_intercept=True, n_jobs=None, normalize=False)"
            ]
          },
          "metadata": {
            "tags": []
          },
          "execution_count": 38
        }
      ]
    },
    {
      "cell_type": "code",
      "metadata": {
        "id": "Jfe-go-a3T41",
        "colab_type": "code",
        "outputId": "14a8963a-4e0b-4d21-fea8-3958208747d1",
        "colab": {
          "base_uri": "https://localhost:8080/",
          "height": 51
        }
      },
      "source": [
        "#To retrieve the intercept:\n",
        "print(reg_line.intercept_)\n",
        "#For retrieving the slope:\n",
        "print(reg_line.coef_)"
      ],
      "execution_count": 39,
      "outputs": [
        {
          "output_type": "stream",
          "text": [
            "[0.27409659]\n",
            "[[2.91235432e-05 1.11087832e+00 1.38420474e-01]]\n"
          ],
          "name": "stdout"
        }
      ]
    },
    {
      "cell_type": "markdown",
      "metadata": {
        "id": "DY6q3BtP3x5q",
        "colab_type": "text"
      },
      "source": [
        "this means that for a unit change in the homescore there is an insignificant change in the hometeam, awayteam and tournament.\n",
        "the same applies for the awayscore.\n",
        "we realise that the most sinificant columns to work with is the rank which have a 2.33992146e-05 influence on rank and 1.03945622e+00 influence on the team result, whereas a 8.42469786e-02 influence on the neutral."
      ]
    },
    {
      "cell_type": "code",
      "metadata": {
        "id": "6wvrPZJ6kVfi",
        "colab_type": "code",
        "outputId": "047d69d8-96f0-473b-ce3c-76656a4d4420",
        "colab": {
          "base_uri": "https://localhost:8080/",
          "height": 136
        }
      },
      "source": [
        "#making predictions\n",
        "y_pred = reg_line.predict(x_test )\n",
        "y_pred"
      ],
      "execution_count": 40,
      "outputs": [
        {
          "output_type": "execute_result",
          "data": {
            "text/plain": [
              "array([[2.63937032],\n",
              "       [0.41408974],\n",
              "       [1.38506228],\n",
              "       ...,\n",
              "       [2.49995965],\n",
              "       [2.49902769],\n",
              "       [2.49629008]])"
            ]
          },
          "metadata": {
            "tags": []
          },
          "execution_count": 40
        }
      ]
    },
    {
      "cell_type": "code",
      "metadata": {
        "id": "ddOQUtAeBNOs",
        "colab_type": "code",
        "outputId": "931b22d5-2afa-444b-fc30-7222c1a34604",
        "colab": {
          "base_uri": "https://localhost:8080/",
          "height": 274
        }
      },
      "source": [
        "plt.scatter(y_pred, y_test,  color='gray')\n",
        "plt.show()"
      ],
      "execution_count": 41,
      "outputs": [
        {
          "output_type": "display_data",
          "data": {
            "image/png": "[encoded data removed]",
            "text/plain": [
              "<Figure size 432x288 with 1 Axes>"
            ]
          },
          "metadata": {
            "tags": []
          }
        }
      ]
    },
    {
      "cell_type": "markdown",
      "metadata": {
        "id": "at6VnNjYCOoA",
        "colab_type": "text"
      },
      "source": [
        "the predicted values and the test sets are far wide apart hence linear regression is not the best model to use."
      ]
    },
    {
      "cell_type": "code",
      "metadata": {
        "id": "mCk56C61ki_e",
        "colab_type": "code",
        "outputId": "b9ee44da-466f-4c86-c80f-524c2f1140f4",
        "colab": {
          "base_uri": "https://localhost:8080/",
          "height": 34
        }
      },
      "source": [
        "from sklearn.metrics import mean_squared_error\n",
        "from math import sqrt\n",
        "\n",
        "rms = sqrt(mean_squared_error(y_test, y_pred))\n",
        "rms"
      ],
      "execution_count": 42,
      "outputs": [
        {
          "output_type": "execute_result",
          "data": {
            "text/plain": [
              "1.7654272278479874"
            ]
          },
          "metadata": {
            "tags": []
          },
          "execution_count": 42
        }
      ]
    },
    {
      "cell_type": "markdown",
      "metadata": {
        "id": "nZLVYR4ro1o1",
        "colab_type": "text"
      },
      "source": [
        "indicates the absolute fit of the model to the data–how close the observed data points are to the model’s predicted values."
      ]
    },
    {
      "cell_type": "markdown",
      "metadata": {
        "id": "DKfjchbwMRxy",
        "colab_type": "text"
      },
      "source": [
        "**Polynomial regression**"
      ]
    },
    {
      "cell_type": "code",
      "metadata": {
        "id": "MwYfYEHag1BC",
        "colab_type": "code",
        "colab": {}
      },
      "source": [
        "#we have two independent variables; home team and away team\n",
        "#this prompts us to do our polynomial regression twice with each of the variables."
      ],
      "execution_count": 0,
      "outputs": []
    },
    {
      "cell_type": "code",
      "metadata": {
        "id": "Ceu4rSVGMyU0",
        "colab_type": "code",
        "colab": {}
      },
      "source": [
        "#we will first start with home score as our x"
      ],
      "execution_count": 0,
      "outputs": []
    },
    {
      "cell_type": "markdown",
      "metadata": {
        "id": "NiVrzQghNps6",
        "colab_type": "text"
      },
      "source": [
        "*prediction for the home team rank*"
      ]
    },
    {
      "cell_type": "code",
      "metadata": {
        "id": "tKtZ9kfKMlMU",
        "colab_type": "code",
        "colab": {}
      },
      "source": [
        "# Let's apply polynomial regression\n",
        "#\n",
        "one = df_merge['rank'].values.reshape(-1,1)\n",
        "two = df_merge['home_score'].values\n"
      ],
      "execution_count": 0,
      "outputs": []
    },
    {
      "cell_type": "code",
      "metadata": {
        "id": "ZCoOx77rM7rT",
        "colab_type": "code",
        "colab": {}
      },
      "source": [
        "#splitting the dataset into train and test sets\n",
        "x_train, x_test, y_train, y_test = train_test_split(one, two, test_size = 0.2, random_state=0)\n",
        "\n"
      ],
      "execution_count": 0,
      "outputs": []
    },
    {
      "cell_type": "code",
      "metadata": {
        "id": "XqlWBNdKNPId",
        "colab_type": "code",
        "outputId": "54149105-c39b-46d3-bbd4-b37877091a61",
        "colab": {
          "base_uri": "https://localhost:8080/",
          "height": 34
        }
      },
      "source": [
        "# We then fit Polynomial Regression to the dataset\n",
        "from sklearn.preprocessing import PolynomialFeatures\n",
        "poly_reg = PolynomialFeatures(degree = 6)\n",
        "x_poly = poly_reg.fit_transform(one)\n",
        "pol_reg = LinearRegression()\n",
        "pol_reg.fit(x_poly, two)\n"
      ],
      "execution_count": 47,
      "outputs": [
        {
          "output_type": "execute_result",
          "data": {
            "text/plain": [
              "LinearRegression(copy_X=True, fit_intercept=True, n_jobs=None, normalize=False)"
            ]
          },
          "metadata": {
            "tags": []
          },
          "execution_count": 47
        }
      ]
    },
    {
      "cell_type": "code",
      "metadata": {
        "id": "fL8ZK5syNTSq",
        "colab_type": "code",
        "outputId": "2ac33406-5040-41ed-fdd0-33db01d7c7b4",
        "colab": {
          "base_uri": "https://localhost:8080/",
          "height": 291
        }
      },
      "source": [
        "#\n",
        "# Running the prediction\n",
        "y_pred = pol_reg.predict(x_poly)\n",
        "y_pred\n",
        "#\n",
        "#Visualize the Polynomial Regression results\n",
        "plt.scatter(x.iloc[:,0], y.iloc[:,0], color='blue')\n",
        "plt.plot(x, pol_reg.predict(x_poly), color='red')\n",
        "plt.xlabel('Rank')\n",
        "plt.ylabel('Score')\n",
        "plt.show()\n",
        "#\n"
      ],
      "execution_count": 102,
      "outputs": [
        {
          "output_type": "display_data",
          "data": {
            "image/png": "[encoded data removed]",
            "text/plain": [
              "<Figure size 432x288 with 1 Axes>"
            ]
          },
          "metadata": {
            "tags": []
          }
        }
      ]
    },
    {
      "cell_type": "code",
      "metadata": {
        "id": "hQceykFqNXel",
        "colab_type": "code",
        "outputId": "642cd8da-04b1-4bb0-bf5c-89e279f431de",
        "colab": {
          "base_uri": "https://localhost:8080/",
          "height": 34
        }
      },
      "source": [
        "# measuring the accuracy of our model using RMSE\n",
        "from sklearn.metrics import mean_squared_error\n",
        "#\n",
        "rmse = np.sqrt(mean_squared_error(y, y_pred))\n",
        "#\n",
        "print(rmse)"
      ],
      "execution_count": 49,
      "outputs": [
        {
          "output_type": "stream",
          "text": [
            "1.9699959792980182\n"
          ],
          "name": "stdout"
        }
      ]
    },
    {
      "cell_type": "markdown",
      "metadata": {
        "id": "Ql5sP-ZvU6Ji",
        "colab_type": "text"
      },
      "source": [
        "*Prediction for the away team scores*"
      ]
    },
    {
      "cell_type": "code",
      "metadata": {
        "id": "7-aNGbWKU0Gl",
        "colab_type": "code",
        "colab": {}
      },
      "source": [
        "# Let's apply polynomial regression\n",
        "#\n",
        "one = df_merge['rank'].values.reshape(-1,1)\n",
        "two = df_merge['away_score'].values\n"
      ],
      "execution_count": 0,
      "outputs": []
    },
    {
      "cell_type": "code",
      "metadata": {
        "id": "N8ZeUDeDVFLD",
        "colab_type": "code",
        "colab": {}
      },
      "source": [
        "#splitting the dataset into train and test sets\n",
        "x_train, x_test, y_train, y_test = train_test_split(one, two, test_size = 0.2, random_state=0)\n",
        "\n"
      ],
      "execution_count": 0,
      "outputs": []
    },
    {
      "cell_type": "code",
      "metadata": {
        "id": "xBp0FU50VJMY",
        "colab_type": "code",
        "outputId": "298492e3-fc3a-40f1-a013-816c49718042",
        "colab": {
          "base_uri": "https://localhost:8080/",
          "height": 34
        }
      },
      "source": [
        "# We then fit Polynomial Regression to the dataset\n",
        "from sklearn.preprocessing import PolynomialFeatures\n",
        "poly_reg = PolynomialFeatures(degree = 4)\n",
        "x_poly = poly_reg.fit_transform(one)\n",
        "pol_reg = LinearRegression()\n",
        "pol_reg.fit(x_poly, two)\n"
      ],
      "execution_count": 52,
      "outputs": [
        {
          "output_type": "execute_result",
          "data": {
            "text/plain": [
              "LinearRegression(copy_X=True, fit_intercept=True, n_jobs=None, normalize=False)"
            ]
          },
          "metadata": {
            "tags": []
          },
          "execution_count": 52
        }
      ]
    },
    {
      "cell_type": "code",
      "metadata": {
        "id": "fwaadeSUVOVS",
        "colab_type": "code",
        "outputId": "c91fecc3-8a4e-40d4-b10a-d18a597a71a2",
        "colab": {
          "base_uri": "https://localhost:8080/",
          "height": 291
        }
      },
      "source": [
        "# Running the prediction\n",
        "y_pred = pol_reg.predict(x_poly)\n",
        "y_pred\n",
        "#\n",
        "#Visualize the Polynomial Regression results\n",
        "\n",
        "plt.scatter(x.iloc[:,0], y.iloc[:,0], color='blue')\n",
        "#plt.scatter(x.iloc[:,0],y)\n",
        "plt.plot(xdate= pol_reg.predict(x_poly), color='red')\n",
        "plt.xlabel('Rank')\n",
        "plt.ylabel('AwayScore')\n",
        "plt.show()\n",
        "#\n"
      ],
      "execution_count": 53,
      "outputs": [
        {
          "output_type": "display_data",
          "data": {
            "image/png": "[encoded data removed]",
            "text/plain": [
              "<Figure size 432x288 with 1 Axes>"
            ]
          },
          "metadata": {
            "tags": []
          }
        }
      ]
    },
    {
      "cell_type": "code",
      "metadata": {
        "id": "ZugVVA8McqN5",
        "colab_type": "code",
        "outputId": "a0075971-52d0-4830-8438-87ecbc891053",
        "colab": {
          "base_uri": "https://localhost:8080/",
          "height": 34
        }
      },
      "source": [
        "# measuring the accuracy of our model using RMSE\n",
        "from sklearn.metrics import mean_squared_error\n",
        "#\n",
        "rmse = np.sqrt(mean_squared_error(y, y_pred))\n",
        "#\n",
        "print(rmse)"
      ],
      "execution_count": 54,
      "outputs": [
        {
          "output_type": "stream",
          "text": [
            "2.069865950870501\n"
          ],
          "name": "stdout"
        }
      ]
    },
    {
      "cell_type": "markdown",
      "metadata": {
        "id": "hiz87fWIxKeb",
        "colab_type": "text"
      },
      "source": [
        "**Logistic Regression**"
      ]
    },
    {
      "cell_type": "markdown",
      "metadata": {
        "id": "vaMU38FzG4XH",
        "colab_type": "text"
      },
      "source": [
        "Logistic regression attempts to predict an outcome (a win or a loss) given a set of data points (stats) that likely influence that outcome."
      ]
    },
    {
      "cell_type": "markdown",
      "metadata": {
        "id": "AfoBStgEV0jW",
        "colab_type": "text"
      },
      "source": [
        "*Prediction for home scores*"
      ]
    },
    {
      "cell_type": "code",
      "metadata": {
        "id": "HP_36OrvVyXO",
        "colab_type": "code",
        "colab": {}
      },
      "source": [
        "y = df_merge[['home_score']]\n",
        "x = df_merge[['rank','result_num','neutral_num']]\n"
      ],
      "execution_count": 0,
      "outputs": []
    },
    {
      "cell_type": "code",
      "metadata": {
        "id": "6nA4N9J5sp5y",
        "colab_type": "code",
        "colab": {}
      },
      "source": [
        "#splitting the dataset into train and test set \n",
        "from sklearn.model_selection import train_test_split\n",
        "x_train, x_test, y_train,y_test = train_test_split(x,y, test_size = 0.2,random_state = 0)"
      ],
      "execution_count": 0,
      "outputs": []
    },
    {
      "cell_type": "code",
      "metadata": {
        "id": "kbgqi9RgHKQO",
        "colab_type": "code",
        "outputId": "d5888417-751a-4a1a-9b91-5643fe169c3a",
        "colab": {
          "base_uri": "https://localhost:8080/",
          "height": 173
        }
      },
      "source": [
        "from sklearn.linear_model import LogisticRegression\n",
        "logreg = LogisticRegression()\n",
        "logreg.fit(x_train, y_train)\n",
        "score = logreg.score(x_train, y_train)\n",
        "score2 = logreg.score(x_test, y_test)\n",
        "\n",
        "print(\"Training set accuracy: \", '%.3f'%(score))\n",
        "print(\"Test set accuracy: \", '%.3f'%(score2))\n"
      ],
      "execution_count": 57,
      "outputs": [
        {
          "output_type": "stream",
          "text": [
            "/usr/local/lib/python3.6/dist-packages/sklearn/linear_model/logistic.py:432: FutureWarning: Default solver will be changed to 'lbfgs' in 0.22. Specify a solver to silence this warning.\n",
            "  FutureWarning)\n",
            "/usr/local/lib/python3.6/dist-packages/sklearn/utils/validation.py:724: DataConversionWarning: A column-vector y was passed when a 1d array was expected. Please change the shape of y to (n_samples, ), for example using ravel().\n",
            "  y = column_or_1d(y, warn=True)\n",
            "/usr/local/lib/python3.6/dist-packages/sklearn/linear_model/logistic.py:469: FutureWarning: Default multi_class will be changed to 'auto' in 0.22. Specify the multi_class option to silence this warning.\n",
            "  \"this warning.\", FutureWarning)\n"
          ],
          "name": "stderr"
        },
        {
          "output_type": "stream",
          "text": [
            "Training set accuracy:  0.384\n",
            "Test set accuracy:  0.383\n"
          ],
          "name": "stdout"
        }
      ]
    },
    {
      "cell_type": "markdown",
      "metadata": {
        "id": "HnuDttiCWENV",
        "colab_type": "text"
      },
      "source": [
        "*Prediction for away scores*"
      ]
    },
    {
      "cell_type": "code",
      "metadata": {
        "id": "45fqnFNcHVt-",
        "colab_type": "code",
        "colab": {}
      },
      "source": [
        "y = df_merge[['away_score']]\n",
        "x = df_merge[['rank','result_num','neutral_num']]\n"
      ],
      "execution_count": 0,
      "outputs": []
    },
    {
      "cell_type": "code",
      "metadata": {
        "id": "pbYXfgnFWNf7",
        "colab_type": "code",
        "colab": {}
      },
      "source": [
        "#splitting the dataset into train and test set \n",
        "from sklearn.model_selection import train_test_split\n",
        "x_train, x_test, y_train,y_test = train_test_split(x,y, test_size = 0.2,random_state = 0)"
      ],
      "execution_count": 0,
      "outputs": []
    },
    {
      "cell_type": "code",
      "metadata": {
        "id": "liSf3Y04WR1P",
        "colab_type": "code",
        "outputId": "a9ec3505-708f-4e3e-bee2-5b1e056deea1",
        "colab": {
          "base_uri": "https://localhost:8080/",
          "height": 173
        }
      },
      "source": [
        "from sklearn.linear_model import LogisticRegression\n",
        "logreg = LogisticRegression()\n",
        "logreg.fit(x_train, y_train)\n",
        "score = logreg.score(x_train, y_train)\n",
        "score2 = logreg.score(x_test, y_test)\n",
        "\n",
        "print(\"Training set accuracy: \", '%.3f'%(score))\n",
        "print(\"Test set accuracy: \", '%.3f'%(score2))\n"
      ],
      "execution_count": 105,
      "outputs": [
        {
          "output_type": "stream",
          "text": [
            "/usr/local/lib/python3.6/dist-packages/sklearn/linear_model/logistic.py:432: FutureWarning: Default solver will be changed to 'lbfgs' in 0.22. Specify a solver to silence this warning.\n",
            "  FutureWarning)\n",
            "/usr/local/lib/python3.6/dist-packages/sklearn/utils/validation.py:724: DataConversionWarning: A column-vector y was passed when a 1d array was expected. Please change the shape of y to (n_samples, ), for example using ravel().\n",
            "  y = column_or_1d(y, warn=True)\n",
            "/usr/local/lib/python3.6/dist-packages/sklearn/linear_model/logistic.py:469: FutureWarning: Default multi_class will be changed to 'auto' in 0.22. Specify the multi_class option to silence this warning.\n",
            "  \"this warning.\", FutureWarning)\n"
          ],
          "name": "stderr"
        },
        {
          "output_type": "stream",
          "text": [
            "Training set accuracy:  0.425\n",
            "Test set accuracy:  0.424\n"
          ],
          "name": "stdout"
        }
      ]
    },
    {
      "cell_type": "code",
      "metadata": {
        "id": "7SeMP2_Nc-r4",
        "colab_type": "code",
        "colab": {}
      },
      "source": [
        ""
      ],
      "execution_count": 0,
      "outputs": []
    }
  ]
}